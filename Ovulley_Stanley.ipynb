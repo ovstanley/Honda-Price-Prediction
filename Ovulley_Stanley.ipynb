{
 "cells": [
  {
   "cell_type": "code",
   "execution_count": 518,
   "id": "09eaf959-cdd2-4d68-af11-6183a84de050",
   "metadata": {},
   "outputs": [],
   "source": [
    "#Libraries import for this Analysis\n",
    "\n",
    "import pandas as pd\n",
    "import numpy as np\n",
    "from sklearn.model_selection import train_test_split\n",
    "from sklearn.linear_model import LinearRegression\n",
    "from sklearn.linear_model import LogisticRegression\n",
    "from sklearn.metrics import mean_squared_error\n",
    "\n",
    "#Any other library will be add as at when neccessary \n"
   ]
  },
  {
   "cell_type": "code",
   "execution_count": 519,
   "id": "4edf6574-7f6c-49e4-8143-905a24d165b3",
   "metadata": {},
   "outputs": [],
   "source": [
    "#loading the data into a Pandas DataFrame\n",
    "\n",
    "df = pd.read_csv(\"C:/Users/stanley/Downloads/Honda Dataset.csv\", encoding='ISO-8859-1')\n"
   ]
  },
  {
   "cell_type": "code",
   "execution_count": 520,
   "id": "dd70fdbf-e9dd-446c-a17e-16f7bc5df29a",
   "metadata": {},
   "outputs": [
    {
     "data": {
      "text/html": [
       "<div>\n",
       "<style scoped>\n",
       "    .dataframe tbody tr th:only-of-type {\n",
       "        vertical-align: middle;\n",
       "    }\n",
       "\n",
       "    .dataframe tbody tr th {\n",
       "        vertical-align: top;\n",
       "    }\n",
       "\n",
       "    .dataframe thead th {\n",
       "        text-align: right;\n",
       "    }\n",
       "</style>\n",
       "<table border=\"1\" class=\"dataframe\">\n",
       "  <thead>\n",
       "    <tr style=\"text-align: right;\">\n",
       "      <th></th>\n",
       "      <th>Year</th>\n",
       "      <th>Make</th>\n",
       "      <th>Model</th>\n",
       "      <th>Condition</th>\n",
       "      <th>Price</th>\n",
       "      <th>Consumer_Rating</th>\n",
       "      <th>Consumer_Review_#</th>\n",
       "      <th>Exterior_Color</th>\n",
       "      <th>Interior_Color</th>\n",
       "      <th>Drivetrain</th>\n",
       "      <th>...</th>\n",
       "      <th>Stock_#</th>\n",
       "      <th>Mileage</th>\n",
       "      <th>Comfort_Rating</th>\n",
       "      <th>Interior_Design_Rating</th>\n",
       "      <th>Performance_Rating</th>\n",
       "      <th>Value_For_Money_Rating</th>\n",
       "      <th>Exterior_Styling_Rating</th>\n",
       "      <th>Reliability_Rating</th>\n",
       "      <th>State</th>\n",
       "      <th>Seller_Type</th>\n",
       "    </tr>\n",
       "  </thead>\n",
       "  <tbody>\n",
       "    <tr>\n",
       "      <th>0</th>\n",
       "      <td>2023</td>\n",
       "      <td>Honda</td>\n",
       "      <td>Ridgeline RTL</td>\n",
       "      <td>New</td>\n",
       "      <td>$46,370</td>\n",
       "      <td>4.8</td>\n",
       "      <td>9</td>\n",
       "      <td>Platinum White Pearl</td>\n",
       "      <td>Beige</td>\n",
       "      <td>All-wheel Drive</td>\n",
       "      <td>...</td>\n",
       "      <td>830164</td>\n",
       "      <td>10</td>\n",
       "      <td>5.0</td>\n",
       "      <td>4.8</td>\n",
       "      <td>4.8</td>\n",
       "      <td>4.2</td>\n",
       "      <td>5.0</td>\n",
       "      <td>5.0</td>\n",
       "      <td>CA</td>\n",
       "      <td>Dealer</td>\n",
       "    </tr>\n",
       "    <tr>\n",
       "      <th>1</th>\n",
       "      <td>2023</td>\n",
       "      <td>Honda</td>\n",
       "      <td>CR-V Hybrid Sport</td>\n",
       "      <td>New</td>\n",
       "      <td>$34,150</td>\n",
       "      <td>1.7</td>\n",
       "      <td>24</td>\n",
       "      <td>Platinum White Pearl</td>\n",
       "      <td>Black</td>\n",
       "      <td>FWD</td>\n",
       "      <td>...</td>\n",
       "      <td>6402953</td>\n",
       "      <td></td>\n",
       "      <td>5.0</td>\n",
       "      <td>3.0</td>\n",
       "      <td>4.0</td>\n",
       "      <td>4.0</td>\n",
       "      <td>5.0</td>\n",
       "      <td>5.0</td>\n",
       "      <td>CA</td>\n",
       "      <td>Dealer</td>\n",
       "    </tr>\n",
       "    <tr>\n",
       "      <th>2</th>\n",
       "      <td>2023</td>\n",
       "      <td>Honda</td>\n",
       "      <td>CR-V Hybrid Sport</td>\n",
       "      <td>New</td>\n",
       "      <td>$34,245</td>\n",
       "      <td>4.7</td>\n",
       "      <td>2869</td>\n",
       "      <td>Meteorite Gray Metallic</td>\n",
       "      <td>Black</td>\n",
       "      <td>Front-wheel Drive</td>\n",
       "      <td>...</td>\n",
       "      <td>PH704805</td>\n",
       "      <td>1</td>\n",
       "      <td>5.0</td>\n",
       "      <td>3.0</td>\n",
       "      <td>4.0</td>\n",
       "      <td>4.0</td>\n",
       "      <td>5.0</td>\n",
       "      <td>5.0</td>\n",
       "      <td>CA</td>\n",
       "      <td>Dealer</td>\n",
       "    </tr>\n",
       "    <tr>\n",
       "      <th>3</th>\n",
       "      <td>2022</td>\n",
       "      <td>Honda</td>\n",
       "      <td>Pilot TrailSport</td>\n",
       "      <td>New</td>\n",
       "      <td>$46,500</td>\n",
       "      <td>5.0</td>\n",
       "      <td>12</td>\n",
       "      <td>Sonic Gray Pearl</td>\n",
       "      <td>Black</td>\n",
       "      <td>All-wheel Drive</td>\n",
       "      <td>...</td>\n",
       "      <td>5700429B</td>\n",
       "      <td>5</td>\n",
       "      <td>5.0</td>\n",
       "      <td>5.0</td>\n",
       "      <td>5.0</td>\n",
       "      <td>5.0</td>\n",
       "      <td>5.0</td>\n",
       "      <td>5.0</td>\n",
       "      <td>CA</td>\n",
       "      <td>Dealer</td>\n",
       "    </tr>\n",
       "    <tr>\n",
       "      <th>4</th>\n",
       "      <td>2023</td>\n",
       "      <td>Honda</td>\n",
       "      <td>CR-V Hybrid Sport Touring</td>\n",
       "      <td>New</td>\n",
       "      <td>$40,395</td>\n",
       "      <td>4.4</td>\n",
       "      <td>12</td>\n",
       "      <td>Crystal Black Pearl</td>\n",
       "      <td>Black</td>\n",
       "      <td>All-wheel Drive</td>\n",
       "      <td>...</td>\n",
       "      <td>5705954</td>\n",
       "      <td>5</td>\n",
       "      <td>5.0</td>\n",
       "      <td>3.0</td>\n",
       "      <td>4.0</td>\n",
       "      <td>4.0</td>\n",
       "      <td>5.0</td>\n",
       "      <td>5.0</td>\n",
       "      <td>CA</td>\n",
       "      <td>Dealer</td>\n",
       "    </tr>\n",
       "    <tr>\n",
       "      <th>...</th>\n",
       "      <td>...</td>\n",
       "      <td>...</td>\n",
       "      <td>...</td>\n",
       "      <td>...</td>\n",
       "      <td>...</td>\n",
       "      <td>...</td>\n",
       "      <td>...</td>\n",
       "      <td>...</td>\n",
       "      <td>...</td>\n",
       "      <td>...</td>\n",
       "      <td>...</td>\n",
       "      <td>...</td>\n",
       "      <td>...</td>\n",
       "      <td>...</td>\n",
       "      <td>...</td>\n",
       "      <td>...</td>\n",
       "      <td>...</td>\n",
       "      <td>...</td>\n",
       "      <td>...</td>\n",
       "      <td>...</td>\n",
       "      <td>...</td>\n",
       "    </tr>\n",
       "    <tr>\n",
       "      <th>4994</th>\n",
       "      <td>2018</td>\n",
       "      <td>Honda</td>\n",
       "      <td>Accord Sport</td>\n",
       "      <td>Used</td>\n",
       "      <td>$19,999</td>\n",
       "      <td>5.0</td>\n",
       "      <td>3234</td>\n",
       "      <td>White</td>\n",
       "      <td>Black</td>\n",
       "      <td>Front-wheel Drive</td>\n",
       "      <td>...</td>\n",
       "      <td>U20361</td>\n",
       "      <td>64719</td>\n",
       "      <td>4.8</td>\n",
       "      <td>4.8</td>\n",
       "      <td>4.7</td>\n",
       "      <td>4.7</td>\n",
       "      <td>4.8</td>\n",
       "      <td>4.8</td>\n",
       "      <td>NY</td>\n",
       "      <td>Dealer</td>\n",
       "    </tr>\n",
       "    <tr>\n",
       "      <th>4995</th>\n",
       "      <td>2020</td>\n",
       "      <td>Honda</td>\n",
       "      <td>Fit LX</td>\n",
       "      <td>Used</td>\n",
       "      <td>$17,495</td>\n",
       "      <td>4.3</td>\n",
       "      <td>54</td>\n",
       "      <td>Red</td>\n",
       "      <td>Black</td>\n",
       "      <td>Front-wheel Drive</td>\n",
       "      <td>...</td>\n",
       "      <td>36117</td>\n",
       "      <td>40902</td>\n",
       "      <td>4.7</td>\n",
       "      <td>4.6</td>\n",
       "      <td>4.7</td>\n",
       "      <td>4.8</td>\n",
       "      <td>4.5</td>\n",
       "      <td>4.8</td>\n",
       "      <td>NY</td>\n",
       "      <td>Dealer</td>\n",
       "    </tr>\n",
       "    <tr>\n",
       "      <th>4996</th>\n",
       "      <td>2018</td>\n",
       "      <td>Honda</td>\n",
       "      <td>Civic Sport</td>\n",
       "      <td>Used</td>\n",
       "      <td>$19,500</td>\n",
       "      <td>4.3</td>\n",
       "      <td>1925</td>\n",
       "      <td>White Orchid Pearl</td>\n",
       "      <td>Beige</td>\n",
       "      <td>Front-wheel Drive</td>\n",
       "      <td>...</td>\n",
       "      <td>NA073727A</td>\n",
       "      <td>82906</td>\n",
       "      <td>4.7</td>\n",
       "      <td>4.7</td>\n",
       "      <td>4.8</td>\n",
       "      <td>4.8</td>\n",
       "      <td>4.9</td>\n",
       "      <td>4.8</td>\n",
       "      <td>CT</td>\n",
       "      <td>Dealer</td>\n",
       "    </tr>\n",
       "    <tr>\n",
       "      <th>4997</th>\n",
       "      <td>2011</td>\n",
       "      <td>Honda</td>\n",
       "      <td>Accord EX-L</td>\n",
       "      <td>Used</td>\n",
       "      <td>$17,998</td>\n",
       "      <td>4.6</td>\n",
       "      <td>4</td>\n",
       "      <td>Black</td>\n",
       "      <td>Black</td>\n",
       "      <td>Front-wheel Drive</td>\n",
       "      <td>...</td>\n",
       "      <td>22941503</td>\n",
       "      <td>88050</td>\n",
       "      <td>4.4</td>\n",
       "      <td>4.5</td>\n",
       "      <td>4.4</td>\n",
       "      <td>4.6</td>\n",
       "      <td>4.5</td>\n",
       "      <td>4.8</td>\n",
       "      <td>MA</td>\n",
       "      <td>Dealer</td>\n",
       "    </tr>\n",
       "    <tr>\n",
       "      <th>4998</th>\n",
       "      <td>2023</td>\n",
       "      <td>Honda</td>\n",
       "      <td>Pilot Elite</td>\n",
       "      <td>New</td>\n",
       "      <td>$53,325</td>\n",
       "      <td>4.3</td>\n",
       "      <td>240</td>\n",
       "      <td>Modern Steel Metallic</td>\n",
       "      <td>Brown</td>\n",
       "      <td>All-wheel Drive</td>\n",
       "      <td>...</td>\n",
       "      <td>H000466</td>\n",
       "      <td>0</td>\n",
       "      <td>NaN</td>\n",
       "      <td>NaN</td>\n",
       "      <td>NaN</td>\n",
       "      <td>NaN</td>\n",
       "      <td>NaN</td>\n",
       "      <td>NaN</td>\n",
       "      <td>ME</td>\n",
       "      <td>Dealer</td>\n",
       "    </tr>\n",
       "  </tbody>\n",
       "</table>\n",
       "<p>4999 rows × 25 columns</p>\n",
       "</div>"
      ],
      "text/plain": [
       "      Year   Make                      Model Condition     Price  \\\n",
       "0     2023  Honda              Ridgeline RTL       New  $46,370    \n",
       "1     2023  Honda          CR-V Hybrid Sport       New  $34,150    \n",
       "2     2023  Honda          CR-V Hybrid Sport       New  $34,245    \n",
       "3     2022  Honda           Pilot TrailSport       New  $46,500    \n",
       "4     2023  Honda  CR-V Hybrid Sport Touring       New  $40,395    \n",
       "...    ...    ...                        ...       ...       ...   \n",
       "4994  2018  Honda               Accord Sport      Used  $19,999    \n",
       "4995  2020  Honda                     Fit LX      Used  $17,495    \n",
       "4996  2018  Honda                Civic Sport      Used  $19,500    \n",
       "4997  2011  Honda                Accord EX-L      Used  $17,998    \n",
       "4998  2023  Honda                Pilot Elite       New  $53,325    \n",
       "\n",
       "      Consumer_Rating  Consumer_Review_#           Exterior_Color  \\\n",
       "0                 4.8                  9     Platinum White Pearl   \n",
       "1                 1.7                 24     Platinum White Pearl   \n",
       "2                 4.7               2869  Meteorite Gray Metallic   \n",
       "3                 5.0                 12         Sonic Gray Pearl   \n",
       "4                 4.4                 12      Crystal Black Pearl   \n",
       "...               ...                ...                      ...   \n",
       "4994              5.0               3234                    White   \n",
       "4995              4.3                 54                      Red   \n",
       "4996              4.3               1925       White Orchid Pearl   \n",
       "4997              4.6                  4                    Black   \n",
       "4998              4.3                240    Modern Steel Metallic   \n",
       "\n",
       "     Interior_Color         Drivetrain  ...    Stock_# Mileage Comfort_Rating  \\\n",
       "0             Beige    All-wheel Drive  ...     830164      10            5.0   \n",
       "1             Black                FWD  ...    6402953                   5.0   \n",
       "2             Black  Front-wheel Drive  ...   PH704805       1            5.0   \n",
       "3             Black    All-wheel Drive  ...   5700429B       5            5.0   \n",
       "4             Black    All-wheel Drive  ...    5705954       5            5.0   \n",
       "...             ...                ...  ...        ...     ...            ...   \n",
       "4994          Black  Front-wheel Drive  ...     U20361   64719            4.8   \n",
       "4995          Black  Front-wheel Drive  ...      36117   40902            4.7   \n",
       "4996          Beige  Front-wheel Drive  ...  NA073727A   82906            4.7   \n",
       "4997          Black  Front-wheel Drive  ...   22941503   88050            4.4   \n",
       "4998          Brown    All-wheel Drive  ...    H000466       0            NaN   \n",
       "\n",
       "     Interior_Design_Rating Performance_Rating Value_For_Money_Rating  \\\n",
       "0                       4.8                4.8                    4.2   \n",
       "1                       3.0                4.0                    4.0   \n",
       "2                       3.0                4.0                    4.0   \n",
       "3                       5.0                5.0                    5.0   \n",
       "4                       3.0                4.0                    4.0   \n",
       "...                     ...                ...                    ...   \n",
       "4994                    4.8                4.7                    4.7   \n",
       "4995                    4.6                4.7                    4.8   \n",
       "4996                    4.7                4.8                    4.8   \n",
       "4997                    4.5                4.4                    4.6   \n",
       "4998                    NaN                NaN                    NaN   \n",
       "\n",
       "     Exterior_Styling_Rating  Reliability_Rating  State  Seller_Type  \n",
       "0                        5.0                 5.0     CA       Dealer  \n",
       "1                        5.0                 5.0     CA       Dealer  \n",
       "2                        5.0                 5.0     CA       Dealer  \n",
       "3                        5.0                 5.0     CA       Dealer  \n",
       "4                        5.0                 5.0     CA       Dealer  \n",
       "...                      ...                 ...    ...          ...  \n",
       "4994                     4.8                 4.8     NY       Dealer  \n",
       "4995                     4.5                 4.8     NY       Dealer  \n",
       "4996                     4.9                 4.8     CT       Dealer  \n",
       "4997                     4.5                 4.8     MA       Dealer  \n",
       "4998                     NaN                 NaN     ME       Dealer  \n",
       "\n",
       "[4999 rows x 25 columns]"
      ]
     },
     "execution_count": 520,
     "metadata": {},
     "output_type": "execute_result"
    }
   ],
   "source": [
    "df"
   ]
  },
  {
   "cell_type": "markdown",
   "id": "14b4e06c-a779-4494-9e54-08b3a434c5c7",
   "metadata": {},
   "source": [
    "\n",
    "<font size=\"5\">STRUCTRURE OF THE DATA</font>"
   ]
  },
  {
   "cell_type": "code",
   "execution_count": 521,
   "id": "f029e4eb-6c67-4b84-9baa-58ea3a84494e",
   "metadata": {},
   "outputs": [
    {
     "data": {
      "text/html": [
       "<div>\n",
       "<style scoped>\n",
       "    .dataframe tbody tr th:only-of-type {\n",
       "        vertical-align: middle;\n",
       "    }\n",
       "\n",
       "    .dataframe tbody tr th {\n",
       "        vertical-align: top;\n",
       "    }\n",
       "\n",
       "    .dataframe thead th {\n",
       "        text-align: right;\n",
       "    }\n",
       "</style>\n",
       "<table border=\"1\" class=\"dataframe\">\n",
       "  <thead>\n",
       "    <tr style=\"text-align: right;\">\n",
       "      <th></th>\n",
       "      <th>count</th>\n",
       "      <th>mean</th>\n",
       "      <th>std</th>\n",
       "      <th>min</th>\n",
       "      <th>25%</th>\n",
       "      <th>50%</th>\n",
       "      <th>75%</th>\n",
       "      <th>max</th>\n",
       "    </tr>\n",
       "  </thead>\n",
       "  <tbody>\n",
       "    <tr>\n",
       "      <th>Year</th>\n",
       "      <td>4999.0</td>\n",
       "      <td>2020.507702</td>\n",
       "      <td>3.711361</td>\n",
       "      <td>1981.0</td>\n",
       "      <td>2019.0</td>\n",
       "      <td>2022.0</td>\n",
       "      <td>2023.0</td>\n",
       "      <td>2023.0</td>\n",
       "    </tr>\n",
       "    <tr>\n",
       "      <th>Consumer_Rating</th>\n",
       "      <td>4999.0</td>\n",
       "      <td>4.569654</td>\n",
       "      <td>0.542453</td>\n",
       "      <td>1.2</td>\n",
       "      <td>4.4</td>\n",
       "      <td>4.7</td>\n",
       "      <td>4.9</td>\n",
       "      <td>5.0</td>\n",
       "    </tr>\n",
       "    <tr>\n",
       "      <th>Consumer_Review_#</th>\n",
       "      <td>4999.0</td>\n",
       "      <td>1288.366673</td>\n",
       "      <td>1969.998095</td>\n",
       "      <td>0.0</td>\n",
       "      <td>126.0</td>\n",
       "      <td>697.0</td>\n",
       "      <td>1695.5</td>\n",
       "      <td>29258.0</td>\n",
       "    </tr>\n",
       "    <tr>\n",
       "      <th>Comfort_Rating</th>\n",
       "      <td>4447.0</td>\n",
       "      <td>4.817540</td>\n",
       "      <td>0.259030</td>\n",
       "      <td>3.8</td>\n",
       "      <td>4.7</td>\n",
       "      <td>4.9</td>\n",
       "      <td>5.0</td>\n",
       "      <td>5.0</td>\n",
       "    </tr>\n",
       "    <tr>\n",
       "      <th>Interior_Design_Rating</th>\n",
       "      <td>4447.0</td>\n",
       "      <td>4.706814</td>\n",
       "      <td>0.476941</td>\n",
       "      <td>3.0</td>\n",
       "      <td>4.7</td>\n",
       "      <td>4.8</td>\n",
       "      <td>5.0</td>\n",
       "      <td>5.0</td>\n",
       "    </tr>\n",
       "    <tr>\n",
       "      <th>Performance_Rating</th>\n",
       "      <td>4447.0</td>\n",
       "      <td>4.663931</td>\n",
       "      <td>0.351680</td>\n",
       "      <td>3.6</td>\n",
       "      <td>4.5</td>\n",
       "      <td>4.8</td>\n",
       "      <td>5.0</td>\n",
       "      <td>5.0</td>\n",
       "    </tr>\n",
       "    <tr>\n",
       "      <th>Value_For_Money_Rating</th>\n",
       "      <td>4447.0</td>\n",
       "      <td>4.580976</td>\n",
       "      <td>0.372107</td>\n",
       "      <td>3.6</td>\n",
       "      <td>4.2</td>\n",
       "      <td>4.6</td>\n",
       "      <td>5.0</td>\n",
       "      <td>5.0</td>\n",
       "    </tr>\n",
       "    <tr>\n",
       "      <th>Exterior_Styling_Rating</th>\n",
       "      <td>4447.0</td>\n",
       "      <td>4.731954</td>\n",
       "      <td>0.313093</td>\n",
       "      <td>3.9</td>\n",
       "      <td>4.6</td>\n",
       "      <td>4.8</td>\n",
       "      <td>5.0</td>\n",
       "      <td>5.0</td>\n",
       "    </tr>\n",
       "    <tr>\n",
       "      <th>Reliability_Rating</th>\n",
       "      <td>4447.0</td>\n",
       "      <td>4.866269</td>\n",
       "      <td>0.190886</td>\n",
       "      <td>4.0</td>\n",
       "      <td>4.8</td>\n",
       "      <td>5.0</td>\n",
       "      <td>5.0</td>\n",
       "      <td>5.0</td>\n",
       "    </tr>\n",
       "  </tbody>\n",
       "</table>\n",
       "</div>"
      ],
      "text/plain": [
       "                          count         mean          std     min     25%  \\\n",
       "Year                     4999.0  2020.507702     3.711361  1981.0  2019.0   \n",
       "Consumer_Rating          4999.0     4.569654     0.542453     1.2     4.4   \n",
       "Consumer_Review_#        4999.0  1288.366673  1969.998095     0.0   126.0   \n",
       "Comfort_Rating           4447.0     4.817540     0.259030     3.8     4.7   \n",
       "Interior_Design_Rating   4447.0     4.706814     0.476941     3.0     4.7   \n",
       "Performance_Rating       4447.0     4.663931     0.351680     3.6     4.5   \n",
       "Value_For_Money_Rating   4447.0     4.580976     0.372107     3.6     4.2   \n",
       "Exterior_Styling_Rating  4447.0     4.731954     0.313093     3.9     4.6   \n",
       "Reliability_Rating       4447.0     4.866269     0.190886     4.0     4.8   \n",
       "\n",
       "                            50%     75%      max  \n",
       "Year                     2022.0  2023.0   2023.0  \n",
       "Consumer_Rating             4.7     4.9      5.0  \n",
       "Consumer_Review_#         697.0  1695.5  29258.0  \n",
       "Comfort_Rating              4.9     5.0      5.0  \n",
       "Interior_Design_Rating      4.8     5.0      5.0  \n",
       "Performance_Rating          4.8     5.0      5.0  \n",
       "Value_For_Money_Rating      4.6     5.0      5.0  \n",
       "Exterior_Styling_Rating     4.8     5.0      5.0  \n",
       "Reliability_Rating          5.0     5.0      5.0  "
      ]
     },
     "execution_count": 521,
     "metadata": {},
     "output_type": "execute_result"
    }
   ],
   "source": [
    "df.describe().T"
   ]
  },
  {
   "cell_type": "code",
   "execution_count": 522,
   "id": "aa48fd5b-2b10-4c40-a4f0-f1a0f43e1690",
   "metadata": {},
   "outputs": [
    {
     "name": "stdout",
     "output_type": "stream",
     "text": [
      "Number of rows: 4999\n",
      "Number of columns: 25\n"
     ]
    }
   ],
   "source": [
    "#Number of Rows and Columns\n",
    "num_rows = df.shape[0]\n",
    "num_cols = df.shape[1]\n",
    "\n",
    "print(\"Number of rows:\", num_rows)\n",
    "print(\"Number of columns:\", num_cols)"
   ]
  },
  {
   "cell_type": "code",
   "execution_count": 523,
   "id": "e7a7a084-4222-49cb-8160-8e4a600af3c4",
   "metadata": {},
   "outputs": [
    {
     "data": {
      "text/html": [
       "<div>\n",
       "<style scoped>\n",
       "    .dataframe tbody tr th:only-of-type {\n",
       "        vertical-align: middle;\n",
       "    }\n",
       "\n",
       "    .dataframe tbody tr th {\n",
       "        vertical-align: top;\n",
       "    }\n",
       "\n",
       "    .dataframe thead th {\n",
       "        text-align: right;\n",
       "    }\n",
       "</style>\n",
       "<table border=\"1\" class=\"dataframe\">\n",
       "  <thead>\n",
       "    <tr style=\"text-align: right;\">\n",
       "      <th></th>\n",
       "      <th>Year</th>\n",
       "      <th>Make</th>\n",
       "      <th>Model</th>\n",
       "      <th>Condition</th>\n",
       "      <th>Price</th>\n",
       "      <th>Consumer_Rating</th>\n",
       "      <th>Consumer_Review_#</th>\n",
       "      <th>Exterior_Color</th>\n",
       "      <th>Interior_Color</th>\n",
       "      <th>Drivetrain</th>\n",
       "      <th>...</th>\n",
       "      <th>Stock_#</th>\n",
       "      <th>Mileage</th>\n",
       "      <th>Comfort_Rating</th>\n",
       "      <th>Interior_Design_Rating</th>\n",
       "      <th>Performance_Rating</th>\n",
       "      <th>Value_For_Money_Rating</th>\n",
       "      <th>Exterior_Styling_Rating</th>\n",
       "      <th>Reliability_Rating</th>\n",
       "      <th>State</th>\n",
       "      <th>Seller_Type</th>\n",
       "    </tr>\n",
       "  </thead>\n",
       "  <tbody>\n",
       "    <tr>\n",
       "      <th>0</th>\n",
       "      <td>2023</td>\n",
       "      <td>Honda</td>\n",
       "      <td>Ridgeline RTL</td>\n",
       "      <td>New</td>\n",
       "      <td>$46,370</td>\n",
       "      <td>4.8</td>\n",
       "      <td>9</td>\n",
       "      <td>Platinum White Pearl</td>\n",
       "      <td>Beige</td>\n",
       "      <td>All-wheel Drive</td>\n",
       "      <td>...</td>\n",
       "      <td>830164</td>\n",
       "      <td>10</td>\n",
       "      <td>5.0</td>\n",
       "      <td>4.8</td>\n",
       "      <td>4.8</td>\n",
       "      <td>4.2</td>\n",
       "      <td>5.0</td>\n",
       "      <td>5.0</td>\n",
       "      <td>CA</td>\n",
       "      <td>Dealer</td>\n",
       "    </tr>\n",
       "    <tr>\n",
       "      <th>1</th>\n",
       "      <td>2023</td>\n",
       "      <td>Honda</td>\n",
       "      <td>CR-V Hybrid Sport</td>\n",
       "      <td>New</td>\n",
       "      <td>$34,150</td>\n",
       "      <td>1.7</td>\n",
       "      <td>24</td>\n",
       "      <td>Platinum White Pearl</td>\n",
       "      <td>Black</td>\n",
       "      <td>FWD</td>\n",
       "      <td>...</td>\n",
       "      <td>6402953</td>\n",
       "      <td></td>\n",
       "      <td>5.0</td>\n",
       "      <td>3.0</td>\n",
       "      <td>4.0</td>\n",
       "      <td>4.0</td>\n",
       "      <td>5.0</td>\n",
       "      <td>5.0</td>\n",
       "      <td>CA</td>\n",
       "      <td>Dealer</td>\n",
       "    </tr>\n",
       "    <tr>\n",
       "      <th>2</th>\n",
       "      <td>2023</td>\n",
       "      <td>Honda</td>\n",
       "      <td>CR-V Hybrid Sport</td>\n",
       "      <td>New</td>\n",
       "      <td>$34,245</td>\n",
       "      <td>4.7</td>\n",
       "      <td>2869</td>\n",
       "      <td>Meteorite Gray Metallic</td>\n",
       "      <td>Black</td>\n",
       "      <td>Front-wheel Drive</td>\n",
       "      <td>...</td>\n",
       "      <td>PH704805</td>\n",
       "      <td>1</td>\n",
       "      <td>5.0</td>\n",
       "      <td>3.0</td>\n",
       "      <td>4.0</td>\n",
       "      <td>4.0</td>\n",
       "      <td>5.0</td>\n",
       "      <td>5.0</td>\n",
       "      <td>CA</td>\n",
       "      <td>Dealer</td>\n",
       "    </tr>\n",
       "    <tr>\n",
       "      <th>3</th>\n",
       "      <td>2022</td>\n",
       "      <td>Honda</td>\n",
       "      <td>Pilot TrailSport</td>\n",
       "      <td>New</td>\n",
       "      <td>$46,500</td>\n",
       "      <td>5.0</td>\n",
       "      <td>12</td>\n",
       "      <td>Sonic Gray Pearl</td>\n",
       "      <td>Black</td>\n",
       "      <td>All-wheel Drive</td>\n",
       "      <td>...</td>\n",
       "      <td>5700429B</td>\n",
       "      <td>5</td>\n",
       "      <td>5.0</td>\n",
       "      <td>5.0</td>\n",
       "      <td>5.0</td>\n",
       "      <td>5.0</td>\n",
       "      <td>5.0</td>\n",
       "      <td>5.0</td>\n",
       "      <td>CA</td>\n",
       "      <td>Dealer</td>\n",
       "    </tr>\n",
       "    <tr>\n",
       "      <th>4</th>\n",
       "      <td>2023</td>\n",
       "      <td>Honda</td>\n",
       "      <td>CR-V Hybrid Sport Touring</td>\n",
       "      <td>New</td>\n",
       "      <td>$40,395</td>\n",
       "      <td>4.4</td>\n",
       "      <td>12</td>\n",
       "      <td>Crystal Black Pearl</td>\n",
       "      <td>Black</td>\n",
       "      <td>All-wheel Drive</td>\n",
       "      <td>...</td>\n",
       "      <td>5705954</td>\n",
       "      <td>5</td>\n",
       "      <td>5.0</td>\n",
       "      <td>3.0</td>\n",
       "      <td>4.0</td>\n",
       "      <td>4.0</td>\n",
       "      <td>5.0</td>\n",
       "      <td>5.0</td>\n",
       "      <td>CA</td>\n",
       "      <td>Dealer</td>\n",
       "    </tr>\n",
       "  </tbody>\n",
       "</table>\n",
       "<p>5 rows × 25 columns</p>\n",
       "</div>"
      ],
      "text/plain": [
       "   Year   Make                      Model Condition     Price  \\\n",
       "0  2023  Honda              Ridgeline RTL       New  $46,370    \n",
       "1  2023  Honda          CR-V Hybrid Sport       New  $34,150    \n",
       "2  2023  Honda          CR-V Hybrid Sport       New  $34,245    \n",
       "3  2022  Honda           Pilot TrailSport       New  $46,500    \n",
       "4  2023  Honda  CR-V Hybrid Sport Touring       New  $40,395    \n",
       "\n",
       "   Consumer_Rating  Consumer_Review_#           Exterior_Color Interior_Color  \\\n",
       "0              4.8                  9     Platinum White Pearl          Beige   \n",
       "1              1.7                 24     Platinum White Pearl          Black   \n",
       "2              4.7               2869  Meteorite Gray Metallic          Black   \n",
       "3              5.0                 12         Sonic Gray Pearl          Black   \n",
       "4              4.4                 12      Crystal Black Pearl          Black   \n",
       "\n",
       "          Drivetrain  ...   Stock_# Mileage Comfort_Rating  \\\n",
       "0    All-wheel Drive  ...    830164      10            5.0   \n",
       "1                FWD  ...   6402953                   5.0   \n",
       "2  Front-wheel Drive  ...  PH704805       1            5.0   \n",
       "3    All-wheel Drive  ...  5700429B       5            5.0   \n",
       "4    All-wheel Drive  ...   5705954       5            5.0   \n",
       "\n",
       "  Interior_Design_Rating Performance_Rating Value_For_Money_Rating  \\\n",
       "0                    4.8                4.8                    4.2   \n",
       "1                    3.0                4.0                    4.0   \n",
       "2                    3.0                4.0                    4.0   \n",
       "3                    5.0                5.0                    5.0   \n",
       "4                    3.0                4.0                    4.0   \n",
       "\n",
       "  Exterior_Styling_Rating  Reliability_Rating  State  Seller_Type  \n",
       "0                     5.0                 5.0     CA       Dealer  \n",
       "1                     5.0                 5.0     CA       Dealer  \n",
       "2                     5.0                 5.0     CA       Dealer  \n",
       "3                     5.0                 5.0     CA       Dealer  \n",
       "4                     5.0                 5.0     CA       Dealer  \n",
       "\n",
       "[5 rows x 25 columns]"
      ]
     },
     "execution_count": 523,
     "metadata": {},
     "output_type": "execute_result"
    }
   ],
   "source": [
    "df.head()"
   ]
  },
  {
   "cell_type": "code",
   "execution_count": 524,
   "id": "d41b72ab-0616-4d90-9a93-2e50c14d4386",
   "metadata": {},
   "outputs": [
    {
     "data": {
      "text/html": [
       "<div>\n",
       "<style scoped>\n",
       "    .dataframe tbody tr th:only-of-type {\n",
       "        vertical-align: middle;\n",
       "    }\n",
       "\n",
       "    .dataframe tbody tr th {\n",
       "        vertical-align: top;\n",
       "    }\n",
       "\n",
       "    .dataframe thead th {\n",
       "        text-align: right;\n",
       "    }\n",
       "</style>\n",
       "<table border=\"1\" class=\"dataframe\">\n",
       "  <thead>\n",
       "    <tr style=\"text-align: right;\">\n",
       "      <th></th>\n",
       "      <th>Year</th>\n",
       "      <th>Make</th>\n",
       "      <th>Model</th>\n",
       "      <th>Condition</th>\n",
       "      <th>Price</th>\n",
       "      <th>Consumer_Rating</th>\n",
       "      <th>Consumer_Review_#</th>\n",
       "      <th>Exterior_Color</th>\n",
       "      <th>Interior_Color</th>\n",
       "      <th>Drivetrain</th>\n",
       "      <th>...</th>\n",
       "      <th>Stock_#</th>\n",
       "      <th>Mileage</th>\n",
       "      <th>Comfort_Rating</th>\n",
       "      <th>Interior_Design_Rating</th>\n",
       "      <th>Performance_Rating</th>\n",
       "      <th>Value_For_Money_Rating</th>\n",
       "      <th>Exterior_Styling_Rating</th>\n",
       "      <th>Reliability_Rating</th>\n",
       "      <th>State</th>\n",
       "      <th>Seller_Type</th>\n",
       "    </tr>\n",
       "  </thead>\n",
       "  <tbody>\n",
       "    <tr>\n",
       "      <th>4994</th>\n",
       "      <td>2018</td>\n",
       "      <td>Honda</td>\n",
       "      <td>Accord Sport</td>\n",
       "      <td>Used</td>\n",
       "      <td>$19,999</td>\n",
       "      <td>5.0</td>\n",
       "      <td>3234</td>\n",
       "      <td>White</td>\n",
       "      <td>Black</td>\n",
       "      <td>Front-wheel Drive</td>\n",
       "      <td>...</td>\n",
       "      <td>U20361</td>\n",
       "      <td>64719</td>\n",
       "      <td>4.8</td>\n",
       "      <td>4.8</td>\n",
       "      <td>4.7</td>\n",
       "      <td>4.7</td>\n",
       "      <td>4.8</td>\n",
       "      <td>4.8</td>\n",
       "      <td>NY</td>\n",
       "      <td>Dealer</td>\n",
       "    </tr>\n",
       "    <tr>\n",
       "      <th>4995</th>\n",
       "      <td>2020</td>\n",
       "      <td>Honda</td>\n",
       "      <td>Fit LX</td>\n",
       "      <td>Used</td>\n",
       "      <td>$17,495</td>\n",
       "      <td>4.3</td>\n",
       "      <td>54</td>\n",
       "      <td>Red</td>\n",
       "      <td>Black</td>\n",
       "      <td>Front-wheel Drive</td>\n",
       "      <td>...</td>\n",
       "      <td>36117</td>\n",
       "      <td>40902</td>\n",
       "      <td>4.7</td>\n",
       "      <td>4.6</td>\n",
       "      <td>4.7</td>\n",
       "      <td>4.8</td>\n",
       "      <td>4.5</td>\n",
       "      <td>4.8</td>\n",
       "      <td>NY</td>\n",
       "      <td>Dealer</td>\n",
       "    </tr>\n",
       "    <tr>\n",
       "      <th>4996</th>\n",
       "      <td>2018</td>\n",
       "      <td>Honda</td>\n",
       "      <td>Civic Sport</td>\n",
       "      <td>Used</td>\n",
       "      <td>$19,500</td>\n",
       "      <td>4.3</td>\n",
       "      <td>1925</td>\n",
       "      <td>White Orchid Pearl</td>\n",
       "      <td>Beige</td>\n",
       "      <td>Front-wheel Drive</td>\n",
       "      <td>...</td>\n",
       "      <td>NA073727A</td>\n",
       "      <td>82906</td>\n",
       "      <td>4.7</td>\n",
       "      <td>4.7</td>\n",
       "      <td>4.8</td>\n",
       "      <td>4.8</td>\n",
       "      <td>4.9</td>\n",
       "      <td>4.8</td>\n",
       "      <td>CT</td>\n",
       "      <td>Dealer</td>\n",
       "    </tr>\n",
       "    <tr>\n",
       "      <th>4997</th>\n",
       "      <td>2011</td>\n",
       "      <td>Honda</td>\n",
       "      <td>Accord EX-L</td>\n",
       "      <td>Used</td>\n",
       "      <td>$17,998</td>\n",
       "      <td>4.6</td>\n",
       "      <td>4</td>\n",
       "      <td>Black</td>\n",
       "      <td>Black</td>\n",
       "      <td>Front-wheel Drive</td>\n",
       "      <td>...</td>\n",
       "      <td>22941503</td>\n",
       "      <td>88050</td>\n",
       "      <td>4.4</td>\n",
       "      <td>4.5</td>\n",
       "      <td>4.4</td>\n",
       "      <td>4.6</td>\n",
       "      <td>4.5</td>\n",
       "      <td>4.8</td>\n",
       "      <td>MA</td>\n",
       "      <td>Dealer</td>\n",
       "    </tr>\n",
       "    <tr>\n",
       "      <th>4998</th>\n",
       "      <td>2023</td>\n",
       "      <td>Honda</td>\n",
       "      <td>Pilot Elite</td>\n",
       "      <td>New</td>\n",
       "      <td>$53,325</td>\n",
       "      <td>4.3</td>\n",
       "      <td>240</td>\n",
       "      <td>Modern Steel Metallic</td>\n",
       "      <td>Brown</td>\n",
       "      <td>All-wheel Drive</td>\n",
       "      <td>...</td>\n",
       "      <td>H000466</td>\n",
       "      <td>0</td>\n",
       "      <td>NaN</td>\n",
       "      <td>NaN</td>\n",
       "      <td>NaN</td>\n",
       "      <td>NaN</td>\n",
       "      <td>NaN</td>\n",
       "      <td>NaN</td>\n",
       "      <td>ME</td>\n",
       "      <td>Dealer</td>\n",
       "    </tr>\n",
       "  </tbody>\n",
       "</table>\n",
       "<p>5 rows × 25 columns</p>\n",
       "</div>"
      ],
      "text/plain": [
       "      Year   Make         Model Condition     Price  Consumer_Rating  \\\n",
       "4994  2018  Honda  Accord Sport      Used  $19,999               5.0   \n",
       "4995  2020  Honda        Fit LX      Used  $17,495               4.3   \n",
       "4996  2018  Honda   Civic Sport      Used  $19,500               4.3   \n",
       "4997  2011  Honda   Accord EX-L      Used  $17,998               4.6   \n",
       "4998  2023  Honda   Pilot Elite       New  $53,325               4.3   \n",
       "\n",
       "      Consumer_Review_#         Exterior_Color Interior_Color  \\\n",
       "4994               3234                  White          Black   \n",
       "4995                 54                    Red          Black   \n",
       "4996               1925     White Orchid Pearl          Beige   \n",
       "4997                  4                  Black          Black   \n",
       "4998                240  Modern Steel Metallic          Brown   \n",
       "\n",
       "             Drivetrain  ...    Stock_# Mileage Comfort_Rating  \\\n",
       "4994  Front-wheel Drive  ...     U20361   64719            4.8   \n",
       "4995  Front-wheel Drive  ...      36117   40902            4.7   \n",
       "4996  Front-wheel Drive  ...  NA073727A   82906            4.7   \n",
       "4997  Front-wheel Drive  ...   22941503   88050            4.4   \n",
       "4998    All-wheel Drive  ...    H000466       0            NaN   \n",
       "\n",
       "     Interior_Design_Rating Performance_Rating Value_For_Money_Rating  \\\n",
       "4994                    4.8                4.7                    4.7   \n",
       "4995                    4.6                4.7                    4.8   \n",
       "4996                    4.7                4.8                    4.8   \n",
       "4997                    4.5                4.4                    4.6   \n",
       "4998                    NaN                NaN                    NaN   \n",
       "\n",
       "     Exterior_Styling_Rating  Reliability_Rating  State  Seller_Type  \n",
       "4994                     4.8                 4.8     NY       Dealer  \n",
       "4995                     4.5                 4.8     NY       Dealer  \n",
       "4996                     4.9                 4.8     CT       Dealer  \n",
       "4997                     4.5                 4.8     MA       Dealer  \n",
       "4998                     NaN                 NaN     ME       Dealer  \n",
       "\n",
       "[5 rows x 25 columns]"
      ]
     },
     "execution_count": 524,
     "metadata": {},
     "output_type": "execute_result"
    }
   ],
   "source": [
    "df.tail()"
   ]
  },
  {
   "cell_type": "code",
   "execution_count": 525,
   "id": "d09509cd-70f7-45b2-8889-d82293fc179a",
   "metadata": {},
   "outputs": [
    {
     "data": {
      "text/plain": [
       "Index(['Year', 'Make', 'Model', 'Condition', 'Price', 'Consumer_Rating',\n",
       "       'Consumer_Review_#', 'Exterior_Color', 'Interior_Color', 'Drivetrain',\n",
       "       'MPG', 'Fuel_Type', 'Transmission', 'Engine', 'VIN', 'Stock_#',\n",
       "       'Mileage', 'Comfort_Rating', 'Interior_Design_Rating',\n",
       "       'Performance_Rating', 'Value_For_Money_Rating',\n",
       "       'Exterior_Styling_Rating', 'Reliability_Rating', 'State',\n",
       "       'Seller_Type'],\n",
       "      dtype='object')"
      ]
     },
     "execution_count": 525,
     "metadata": {},
     "output_type": "execute_result"
    }
   ],
   "source": [
    "df.columns"
   ]
  },
  {
   "cell_type": "code",
   "execution_count": 526,
   "id": "5e9d30a3-2ca6-4667-b239-cfd1d09837f6",
   "metadata": {},
   "outputs": [
    {
     "data": {
      "text/plain": [
       "Year                         int64\n",
       "Make                        object\n",
       "Model                       object\n",
       "Condition                   object\n",
       "Price                       object\n",
       "Consumer_Rating            float64\n",
       "Consumer_Review_#            int64\n",
       "Exterior_Color              object\n",
       "Interior_Color              object\n",
       "Drivetrain                  object\n",
       "MPG                         object\n",
       "Fuel_Type                   object\n",
       "Transmission                object\n",
       "Engine                      object\n",
       "VIN                         object\n",
       "Stock_#                     object\n",
       "Mileage                     object\n",
       "Comfort_Rating             float64\n",
       "Interior_Design_Rating     float64\n",
       "Performance_Rating         float64\n",
       "Value_For_Money_Rating     float64\n",
       "Exterior_Styling_Rating    float64\n",
       "Reliability_Rating         float64\n",
       "State                       object\n",
       "Seller_Type                 object\n",
       "dtype: object"
      ]
     },
     "execution_count": 526,
     "metadata": {},
     "output_type": "execute_result"
    }
   ],
   "source": [
    "#Checking the data types of each Column\n",
    "df.dtypes"
   ]
  },
  {
   "cell_type": "markdown",
   "id": "1c29145d-ca87-48f9-84df-aaaeec9143a0",
   "metadata": {},
   "source": [
    "<font size=\"5\"> CHECKING FOR MISSION VALUES</font>"
   ]
  },
  {
   "cell_type": "code",
   "execution_count": 527,
   "id": "2a9189ca-67c5-4ea5-a975-0af875292a9e",
   "metadata": {},
   "outputs": [
    {
     "data": {
      "text/plain": [
       "Year                       False\n",
       "Make                       False\n",
       "Model                      False\n",
       "Condition                  False\n",
       "Price                      False\n",
       "Consumer_Rating            False\n",
       "Consumer_Review_#          False\n",
       "Exterior_Color              True\n",
       "Interior_Color              True\n",
       "Drivetrain                  True\n",
       "MPG                         True\n",
       "Fuel_Type                   True\n",
       "Transmission                True\n",
       "Engine                      True\n",
       "VIN                         True\n",
       "Stock_#                     True\n",
       "Mileage                     True\n",
       "Comfort_Rating              True\n",
       "Interior_Design_Rating      True\n",
       "Performance_Rating          True\n",
       "Value_For_Money_Rating      True\n",
       "Exterior_Styling_Rating     True\n",
       "Reliability_Rating          True\n",
       "State                       True\n",
       "Seller_Type                 True\n",
       "dtype: bool"
      ]
     },
     "execution_count": 527,
     "metadata": {},
     "output_type": "execute_result"
    }
   ],
   "source": [
    "#checking for missing values\n",
    "df.isna().any()\n"
   ]
  },
  {
   "cell_type": "code",
   "execution_count": 528,
   "id": "97a7b341-f4c2-46fb-b014-466f261bae6e",
   "metadata": {},
   "outputs": [
    {
     "data": {
      "text/plain": [
       "Year                          0\n",
       "Make                          0\n",
       "Model                         0\n",
       "Condition                     0\n",
       "Price                         0\n",
       "Consumer_Rating               0\n",
       "Consumer_Review_#             0\n",
       "Exterior_Color               11\n",
       "Interior_Color               11\n",
       "Drivetrain                   11\n",
       "MPG                        1485\n",
       "Fuel_Type                    11\n",
       "Transmission                 11\n",
       "Engine                       11\n",
       "VIN                          11\n",
       "Stock_#                      11\n",
       "Mileage                      11\n",
       "Comfort_Rating              552\n",
       "Interior_Design_Rating      552\n",
       "Performance_Rating          552\n",
       "Value_For_Money_Rating      552\n",
       "Exterior_Styling_Rating     552\n",
       "Reliability_Rating          552\n",
       "State                        73\n",
       "Seller_Type                  73\n",
       "dtype: int64"
      ]
     },
     "execution_count": 528,
     "metadata": {},
     "output_type": "execute_result"
    }
   ],
   "source": [
    "#summing up missing values in each column\n",
    "df.isna().sum()"
   ]
  },
  {
   "cell_type": "markdown",
   "id": "8092124f-7f6e-4a3f-95f3-28cc0657ebeb",
   "metadata": {},
   "source": [
    "\n",
    "<font size=\"5\"> Droping Some NA Values</font>"
   ]
  },
  {
   "cell_type": "code",
   "execution_count": 529,
   "id": "4708dc0a-69a1-4925-bd93-c132dfd1d8cf",
   "metadata": {},
   "outputs": [],
   "source": [
    "'''Dropping NA in Exterior and interior_color column\n",
    "since they are only 11 and won't a major impact \n",
    "on the analysis of this dataset'''\n",
    "\n",
    "df.dropna(subset=[\"Exterior_Color\", \"Interior_Color\", \"Fuel_Type\", \"Transmission\", \"Engine\"], inplace=True)"
   ]
  },
  {
   "cell_type": "code",
   "execution_count": 530,
   "id": "6c34a262-99e4-4689-b5c8-cb23794ee9e8",
   "metadata": {},
   "outputs": [
    {
     "data": {
      "text/plain": [
       "array(['Platinum White Pearl', 'Meteorite Gray Metallic',\n",
       "       'Sonic Gray Pearl', 'Crystal Black Pearl',\n",
       "       'Pacific Pewter Metallic', 'Urban Gray Pearl', 'Still Night Pearl',\n",
       "       'Modern Steel Metallic', 'Dark Cherry Pearl',\n",
       "       'Lunar Silver Metallic', 'White', 'Sky', 'Obsidian Blue Pearl',\n",
       "       'Rallye Red', 'Radiant Red Metallic II', '\\x96', 'Silver', 'Black',\n",
       "       'CRYSTAL BLACK', 'Platinum', 'Gray', 'Platinum White',\n",
       "       'Silver Metallic', 'Obsidian Black', 'Pewter', 'Midnight Amethyst',\n",
       "       'Radiant Red', 'Canyon', 'White Pearl', 'Lunar', 'Crystal',\n",
       "       'Aegean Blue Metallic', 'GC', 'Urban Gray', 'Pearl',\n",
       "       'Deep Scarlet Pearl', 'Radiant Red Metallic', 'Meteorite', 'Blue',\n",
       "       'Gold', 'Sonic Blue', 'Still Night', 'Crystal Black',\n",
       "       'Lunar Silver', 'Milano Red', 'Steel Sapphire Metallic',\n",
       "       'Obsidian Blue', 'Morning Mist Metallic',\n",
       "       'Polished Metal Metallic', 'Purple', 'Red', 'Brown',\n",
       "       'San Marino Red', 'White Diamond Pearl', 'Meteorite Gray',\n",
       "       'Taffeta White', 'Mountain Air Metallic',\n",
       "       'Alabaster Silver Metallic', 'NH 877', 'New Formula Red',\n",
       "       'Cosmic Blue Metallic', 'Boost Blue Pearl', 'Sky Blue Pearl',\n",
       "       'Kona Coffee Metallic', 'Graphite Pearl', 'Burgundy', 'Green',\n",
       "       'Gray Pearl', 'Canyon River Blue Metallic', 'Maroon',\n",
       "       'Mist Metallic', 'Champagne Frost Pearl', 'Nighthawk Black Pearl',\n",
       "       'Satin Silver Metallic', 'Smokey Mauve Pearl',\n",
       "       'Nordic Forest Pearl', 'Aegean Blue', 'Celestial Blue Metallic',\n",
       "       'Mar', 'Smoky Topaz Metallic', 'White Orchid Pearl', 'UNKNOWN',\n",
       "       'Premium White', 'Nh-731p/Crystal Bl', 'Basque Red Pearl II', 'WY',\n",
       "       'Nordic', 'Misty Green', 'Glacier Blue Metallic',\n",
       "       'Blazing Orange Pearl', 'Silver Moss Metallic', 'Deep Violet',\n",
       "       'NH-731P/CRYSTAL BL', 'Bali Blue Pearl', 'Charcoal', 'BV',\n",
       "       'Championship White', 'Mist', 'BLACK', 'Black Copper Pearl',\n",
       "       'Beige', 'Crystal Blue', 'Solar Silver Metallic',\n",
       "       'BLUE**SUPER CLEAN, LOW MILES AND BACKED BY WARRANT',\n",
       "       'Energy Green Pearl', 'NH 883P', 'Royal Blue Pearl', '1', 'OTHER',\n",
       "       'Blue Metallic', 'WX / WX', 'Diamond White Pearl',\n",
       "       'Mediterranean Blue Pearl', 'Phoenix Yellow',\n",
       "       'Galaxy Gray Metallic', 'Tangerine Metallic',\n",
       "       'Atomic Blue Metallic', 'Molten Lava Pearl', 'Gunmetal Metallic',\n",
       "       'Deep Scarlet', 'Silverstone Metallic', 'Slate Green Metallic',\n",
       "       'Blazing', 'Gray Metallic', 'A', 'Steel', 'Eternal Blue Pearl',\n",
       "       'Desert Mist Metallic', 'Suzuka Blue Metallic', 'Pearl White',\n",
       "       'PEWTER', 'Tan', 'Silver Gray', 'WHITE', 'MAROON',\n",
       "       'Modern Steel Metallic Gray', 'Special', 'Urban Titanium Metallic',\n",
       "       'Black Forest Pearl', 'Forest Mist', 'Storm Silver Metallic',\n",
       "       'Yellow', 'Crimson Pearl', 'White Diamond', 'COSMIC BLUE',\n",
       "       'OBSIDION BLUE', 'Black Obsidian', 'Pacific', 'Berlina Black',\n",
       "       'Fiji Blue Pearl', 'Basque Red Pearl', 'Orange', 'Tango Red Pearl',\n",
       "       'red', 'Mandarin Gold Metallic', 'Whistler Silver Metallic',\n",
       "       'CELESTITE', 'Deep Ocean Pearl', 'NH 904M', 'RED',\n",
       "       'Midnight Blue Metallic', 'Hematite Metallic', 'NH 883',\n",
       "       'Navy Blue', 'Dyno Blue Pearl', 'Blue Pearl', 'BLUE',\n",
       "       'Bright White', 'Premium White Pearl', 'Moonlit Forest Pearl',\n",
       "       'Deep Velvet Blue Pearl', 'Dark Gray'], dtype=object)"
      ]
     },
     "execution_count": 530,
     "metadata": {},
     "output_type": "execute_result"
    }
   ],
   "source": [
    "df.Exterior_Color.unique()"
   ]
  },
  {
   "cell_type": "code",
   "execution_count": 531,
   "id": "d2bc6b93-77bd-4975-84fa-006213b7462b",
   "metadata": {},
   "outputs": [],
   "source": [
    "\n",
    "# create a list of values to drop\n",
    "values_to_drop = ['\\x96', '1', 'UNKNOWN', 'NH-731P/CRYSTAL BL', 'WX / WX']\n",
    "\n",
    "# drop the values from the column 'Exterior_Color'\n",
    "df = df[~df['Exterior_Color'].isin(values_to_drop)]"
   ]
  },
  {
   "cell_type": "code",
   "execution_count": 532,
   "id": "2e6befd2-55e7-4171-b35a-e60cdd6a0e92",
   "metadata": {},
   "outputs": [
    {
     "data": {
      "text/plain": [
       "array(['Platinum White Pearl', 'Meteorite Gray Metallic',\n",
       "       'Sonic Gray Pearl', 'Crystal Black Pearl',\n",
       "       'Pacific Pewter Metallic', 'Urban Gray Pearl', 'Still Night Pearl',\n",
       "       'Modern Steel Metallic', 'Dark Cherry Pearl',\n",
       "       'Lunar Silver Metallic', 'White', 'Sky', 'Obsidian Blue Pearl',\n",
       "       'Rallye Red', 'Radiant Red Metallic II', 'Silver', 'Black',\n",
       "       'CRYSTAL BLACK', 'Platinum', 'Gray', 'Platinum White',\n",
       "       'Silver Metallic', 'Obsidian Black', 'Pewter', 'Midnight Amethyst',\n",
       "       'Radiant Red', 'Canyon', 'White Pearl', 'Lunar', 'Crystal',\n",
       "       'Aegean Blue Metallic', 'GC', 'Urban Gray', 'Pearl',\n",
       "       'Deep Scarlet Pearl', 'Radiant Red Metallic', 'Meteorite', 'Blue',\n",
       "       'Gold', 'Sonic Blue', 'Still Night', 'Crystal Black',\n",
       "       'Lunar Silver', 'Milano Red', 'Steel Sapphire Metallic',\n",
       "       'Obsidian Blue', 'Morning Mist Metallic',\n",
       "       'Polished Metal Metallic', 'Purple', 'Red', 'Brown',\n",
       "       'San Marino Red', 'White Diamond Pearl', 'Meteorite Gray',\n",
       "       'Taffeta White', 'Mountain Air Metallic',\n",
       "       'Alabaster Silver Metallic', 'NH 877', 'New Formula Red',\n",
       "       'Cosmic Blue Metallic', 'Boost Blue Pearl', 'Sky Blue Pearl',\n",
       "       'Kona Coffee Metallic', 'Graphite Pearl', 'Burgundy', 'Green',\n",
       "       'Gray Pearl', 'Canyon River Blue Metallic', 'Maroon',\n",
       "       'Mist Metallic', 'Champagne Frost Pearl', 'Nighthawk Black Pearl',\n",
       "       'Satin Silver Metallic', 'Smokey Mauve Pearl',\n",
       "       'Nordic Forest Pearl', 'Aegean Blue', 'Celestial Blue Metallic',\n",
       "       'Mar', 'Smoky Topaz Metallic', 'White Orchid Pearl',\n",
       "       'Premium White', 'Nh-731p/Crystal Bl', 'Basque Red Pearl II', 'WY',\n",
       "       'Nordic', 'Misty Green', 'Glacier Blue Metallic',\n",
       "       'Blazing Orange Pearl', 'Silver Moss Metallic', 'Deep Violet',\n",
       "       'Bali Blue Pearl', 'Charcoal', 'BV', 'Championship White', 'Mist',\n",
       "       'BLACK', 'Black Copper Pearl', 'Beige', 'Crystal Blue',\n",
       "       'Solar Silver Metallic',\n",
       "       'BLUE**SUPER CLEAN, LOW MILES AND BACKED BY WARRANT',\n",
       "       'Energy Green Pearl', 'NH 883P', 'Royal Blue Pearl', 'OTHER',\n",
       "       'Blue Metallic', 'Diamond White Pearl', 'Mediterranean Blue Pearl',\n",
       "       'Phoenix Yellow', 'Galaxy Gray Metallic', 'Tangerine Metallic',\n",
       "       'Atomic Blue Metallic', 'Molten Lava Pearl', 'Gunmetal Metallic',\n",
       "       'Deep Scarlet', 'Silverstone Metallic', 'Slate Green Metallic',\n",
       "       'Blazing', 'Gray Metallic', 'A', 'Steel', 'Eternal Blue Pearl',\n",
       "       'Desert Mist Metallic', 'Suzuka Blue Metallic', 'Pearl White',\n",
       "       'PEWTER', 'Tan', 'Silver Gray', 'WHITE', 'MAROON',\n",
       "       'Modern Steel Metallic Gray', 'Special', 'Urban Titanium Metallic',\n",
       "       'Black Forest Pearl', 'Forest Mist', 'Storm Silver Metallic',\n",
       "       'Yellow', 'Crimson Pearl', 'White Diamond', 'COSMIC BLUE',\n",
       "       'OBSIDION BLUE', 'Black Obsidian', 'Pacific', 'Berlina Black',\n",
       "       'Fiji Blue Pearl', 'Basque Red Pearl', 'Orange', 'Tango Red Pearl',\n",
       "       'red', 'Mandarin Gold Metallic', 'Whistler Silver Metallic',\n",
       "       'CELESTITE', 'Deep Ocean Pearl', 'NH 904M', 'RED',\n",
       "       'Midnight Blue Metallic', 'Hematite Metallic', 'NH 883',\n",
       "       'Navy Blue', 'Dyno Blue Pearl', 'Blue Pearl', 'BLUE',\n",
       "       'Bright White', 'Premium White Pearl', 'Moonlit Forest Pearl',\n",
       "       'Deep Velvet Blue Pearl', 'Dark Gray'], dtype=object)"
      ]
     },
     "execution_count": 532,
     "metadata": {},
     "output_type": "execute_result"
    }
   ],
   "source": [
    "df.Exterior_Color.unique()"
   ]
  },
  {
   "cell_type": "code",
   "execution_count": 533,
   "id": "e6cc89d7-c1db-43bd-b0b7-79707b62b5cf",
   "metadata": {},
   "outputs": [
    {
     "data": {
      "text/plain": [
       "array(['Beige', 'Black', 'Mocha', '\\x96', 'Brown', 'Gray',\n",
       "       'Nh-883p/Black', 'Blk Lth', 'Blk Lth-Trmmed Seats', 'Ivory',\n",
       "       'Black / Red', 'Red / Black', 'NH-797M/BLACK', 'Gry Clth',\n",
       "       'NH-912P/BLACK', 'NH-877P/BLACK', 'Blk Perforated Lth-Trmmed',\n",
       "       'Tan', 'Black/Red', 'Red', 'YR-642M/BLACK', 'NH-883P/BLACK',\n",
       "       'NH-904M/BLACK', 'NH-731P/BLACK', 'Titanium', 'Truffle',\n",
       "       'Blk Fabric W/Synthetic Lt', 'Sport', 'Blk Perforated Lth',\n",
       "       'Black / Gray', 'Nh-797m/Black', 'B-593M/BLACK', 'Gray / Silver',\n",
       "       'Blk Clth', 'Gry Lth', 'Biege', 'Cream', 'Bge Lth', 'Parchment',\n",
       "       'Grey', 'Blue', 'Crystal Black', 'B-640m/Black', '.', 'Stone',\n",
       "       'Graphite', 'Black / Titanium', 'Gray / Blue', 'Blk Lth-Trmmed',\n",
       "       'Select', 'B-637p/Black', 'Gray/Blue', 'NH-830M/BLACK',\n",
       "       'Black / Ivory', 'BLACK', 'Interior', 'Burgundy', 'Gray/Black',\n",
       "       'Silver', 'B-575p/Black', 'Nh-877p/Black',\n",
       "       'Nighthawk Black Pearl / Grey'], dtype=object)"
      ]
     },
     "execution_count": 533,
     "metadata": {},
     "output_type": "execute_result"
    }
   ],
   "source": [
    "df.Interior_Color.unique()"
   ]
  },
  {
   "cell_type": "code",
   "execution_count": 534,
   "id": "feb96795-cb39-4cb5-8526-c59118d866ba",
   "metadata": {},
   "outputs": [
    {
     "data": {
      "text/plain": [
       "array(['Gasoline', 'Hybrid', '5-Speed A/T', 'A/T', '6-Speed M/T',\n",
       "       'CVT Transmission', 'Compressed Natural Gas'], dtype=object)"
      ]
     },
     "execution_count": 534,
     "metadata": {},
     "output_type": "execute_result"
    }
   ],
   "source": [
    "df.Fuel_Type.unique()"
   ]
  },
  {
   "cell_type": "code",
   "execution_count": 535,
   "id": "3a442c0b-3e8c-4eac-af3f-37dfdcc62b29",
   "metadata": {},
   "outputs": [],
   "source": [
    "# create a list of values to drop\n",
    "Non_Fuel_values = ['5-Speed A/T', 'A/T', '6-Speed M/T','CVT Transmission']\n",
    "\n",
    "# drop the values from the column 'Exterior_Color'\n",
    "df = df[~df['Fuel_Type'].isin(Non_Fuel_values)]"
   ]
  },
  {
   "cell_type": "code",
   "execution_count": 536,
   "id": "78c0e7bd-d39c-4ec6-bff2-8dbc477b3848",
   "metadata": {},
   "outputs": [
    {
     "data": {
      "text/plain": [
       "array(['Gasoline', 'Hybrid', 'Compressed Natural Gas'], dtype=object)"
      ]
     },
     "execution_count": 536,
     "metadata": {},
     "output_type": "execute_result"
    }
   ],
   "source": [
    "df.Fuel_Type.unique()"
   ]
  },
  {
   "cell_type": "code",
   "execution_count": 537,
   "id": "d06dba82-4473-4e2d-8408-1a2f8f340f18",
   "metadata": {},
   "outputs": [
    {
     "data": {
      "text/plain": [
       "array(['Automatic', 'Automatic CVT', '9-Speed Automatic',\n",
       "       '10-Speed Automatic', '10-SPEED A/T', 'continuously variable',\n",
       "       'continuously variable (m cvt)', 'continuously variable automatic',\n",
       "       'electronic continuously variable', '1-Speed CVT with Overdrive',\n",
       "       '9-SPEED A/T', 'Variable', '\\x96', 'OTHER', '6-Speed Manual',\n",
       "       '9-Speed Automatic with Overdrive', 'eCVT', 'Manual',\n",
       "       'continuously variable w/sport mode',\n",
       "       'continuously variable (ll cvt)', '10 speed automatic',\n",
       "       '1-Speed Automatic', 'NOT SPECIFIED', 'CVT',\n",
       "       'Electronically Controlled Automatic', '6-SPEED M/T',\n",
       "       '5-Speed Automatic', '6-Speed Automatic',\n",
       "       '10-Speed Automatic with Overdrive', '4-Speed Automatic', '2',\n",
       "       '9 speed automatic', '5-Speed Manual', '6-SPEED A/T',\n",
       "       '5-SPEED A/T', 'TRANSMISSION W DRIVER SELECTABLE MODE',\n",
       "       'Close-Ratio 6-Speed Manual', '5-SPEED M/T', '4-SPEED A/T',\n",
       "       'continuously variable (cvt)', 'AUTOMATIC',\n",
       "       'e continuously variable (e cvt)',\n",
       "       'Continuously Variable Transmission', 'Automatic 5-Speed',\n",
       "       'Automatic, 6-Spd', 'electric continuously variable',\n",
       "       'CVT TRANSMISSION', 'Automatic, 5-Spd', '9-Speed',\n",
       "       '6 speed automatic', '1-Speed CVT w/OD'], dtype=object)"
      ]
     },
     "execution_count": 537,
     "metadata": {},
     "output_type": "execute_result"
    }
   ],
   "source": [
    "df.Transmission.unique()"
   ]
  },
  {
   "cell_type": "code",
   "execution_count": 538,
   "id": "ee2c5c17-9228-407c-b9f4-c33886685559",
   "metadata": {},
   "outputs": [],
   "source": [
    "# create a list of values to drop\n",
    "Non_Transmission_values = [\"\\x96\",\"NOT SPECIFIED\",\"2\"]\n",
    "\n",
    "# drop the values from the column 'Exterior_Color'\n",
    "df = df[~df['Transmission'].isin(Non_Transmission_values)]"
   ]
  },
  {
   "cell_type": "code",
   "execution_count": 539,
   "id": "9079e9f6-5245-4790-8cc6-495b8016fb34",
   "metadata": {},
   "outputs": [
    {
     "data": {
      "text/plain": [
       "array(['Beige', 'Black', 'Mocha', '\\x96', 'Brown', 'Gray',\n",
       "       'Nh-883p/Black', 'Blk Lth', 'Blk Lth-Trmmed Seats', 'Ivory',\n",
       "       'Black / Red', 'Red / Black', 'NH-797M/BLACK', 'Gry Clth',\n",
       "       'NH-912P/BLACK', 'NH-877P/BLACK', 'Blk Perforated Lth-Trmmed',\n",
       "       'Tan', 'Black/Red', 'Red', 'YR-642M/BLACK', 'NH-883P/BLACK',\n",
       "       'NH-904M/BLACK', 'NH-731P/BLACK', 'Titanium', 'Truffle',\n",
       "       'Blk Fabric W/Synthetic Lt', 'Sport', 'Blk Perforated Lth',\n",
       "       'Black / Gray', 'Nh-797m/Black', 'B-593M/BLACK', 'Gray / Silver',\n",
       "       'Blk Clth', 'Gry Lth', 'Biege', 'Cream', 'Bge Lth', 'Parchment',\n",
       "       'Grey', 'Blue', 'Crystal Black', 'B-640m/Black', '.', 'Stone',\n",
       "       'Graphite', 'Black / Titanium', 'Gray / Blue', 'Blk Lth-Trmmed',\n",
       "       'Select', 'B-637p/Black', 'Gray/Blue', 'NH-830M/BLACK',\n",
       "       'Black / Ivory', 'BLACK', 'Interior', 'Burgundy', 'Gray/Black',\n",
       "       'Silver', 'B-575p/Black', 'Nh-877p/Black',\n",
       "       'Nighthawk Black Pearl / Grey'], dtype=object)"
      ]
     },
     "execution_count": 539,
     "metadata": {},
     "output_type": "execute_result"
    }
   ],
   "source": [
    "df.Interior_Color.unique()"
   ]
  },
  {
   "cell_type": "code",
   "execution_count": 540,
   "id": "df172670-063e-4432-870d-7d92f35dec90",
   "metadata": {},
   "outputs": [
    {
     "data": {
      "text/plain": [
       "array(['Automatic', 'Automatic CVT', '9-Speed Automatic',\n",
       "       '10-Speed Automatic', '10-SPEED A/T', 'continuously variable',\n",
       "       'continuously variable (m cvt)', 'continuously variable automatic',\n",
       "       'electronic continuously variable', '1-Speed CVT with Overdrive',\n",
       "       '9-SPEED A/T', 'Variable', 'OTHER', '6-Speed Manual',\n",
       "       '9-Speed Automatic with Overdrive', 'eCVT', 'Manual',\n",
       "       'continuously variable w/sport mode',\n",
       "       'continuously variable (ll cvt)', '10 speed automatic',\n",
       "       '1-Speed Automatic', 'CVT', 'Electronically Controlled Automatic',\n",
       "       '6-SPEED M/T', '5-Speed Automatic', '6-Speed Automatic',\n",
       "       '10-Speed Automatic with Overdrive', '4-Speed Automatic',\n",
       "       '9 speed automatic', '5-Speed Manual', '6-SPEED A/T',\n",
       "       '5-SPEED A/T', 'TRANSMISSION W DRIVER SELECTABLE MODE',\n",
       "       'Close-Ratio 6-Speed Manual', '5-SPEED M/T', '4-SPEED A/T',\n",
       "       'continuously variable (cvt)', 'AUTOMATIC',\n",
       "       'e continuously variable (e cvt)',\n",
       "       'Continuously Variable Transmission', 'Automatic 5-Speed',\n",
       "       'Automatic, 6-Spd', 'electric continuously variable',\n",
       "       'CVT TRANSMISSION', 'Automatic, 5-Spd', '9-Speed',\n",
       "       '6 speed automatic', '1-Speed CVT w/OD'], dtype=object)"
      ]
     },
     "execution_count": 540,
     "metadata": {},
     "output_type": "execute_result"
    }
   ],
   "source": [
    "df.Transmission.unique()"
   ]
  },
  {
   "cell_type": "code",
   "execution_count": 541,
   "id": "aea8b29d-0403-440e-90d5-4a16ba670e58",
   "metadata": {},
   "outputs": [
    {
     "data": {
      "text/plain": [
       "array(['3.5L V6 24V GDI SOHC', '2.0L I4 16V GDI DOHC Hybrid',\n",
       "       '3.5L V6 24V GDI DOHC', '1.5L I4 16V GDI DOHC Turbo',\n",
       "       'V6 Cylinder Engine', '4 Cylinder Engine', '1.5L I4 16V DOHC',\n",
       "       '2.0L I4 16V GDI DOHC Turbo', '2.0L I4 16V MPFI DOHC Hybrid',\n",
       "       'Intercooled Turbo Regular Unleaded I-4 1.5 L/91',\n",
       "       '2.0L I4 16V GDI DOHC', '1.8L I4 16V MPFI SOHC',\n",
       "       'Gas/Electric I-4 2.0 L/122',\n",
       "       'Intercooled Turbo Regular Unleaded I-4 2.0 L/122',\n",
       "       'Regular Unleaded V-6 3.5 L/212', '1.5L 4 Cylinder',\n",
       "       '2.4L I4 16V GDI DOHC', 'Regular Unleaded I-4 2.0 L/122',\n",
       "       'Premium Unleaded V-6 3.5 L/212', '2.4L I4 16V MPFI DOHC',\n",
       "       '1.5L I4 16V MPFI DOHC Hybrid', '2.0L I4 16V MPFI DOHC',\n",
       "       '2.2L I4 16V MPFI DOHC', '3.5L V6 24V MPFI SOHC', '1.5L 4 Cyl.',\n",
       "       'Gas/Electric I-4 1.5 L/91', '3.0L V6 24V MPFI SOHC',\n",
       "       '2.2L I4 16V MPFI SOHC', '1.5L I4', '3.5L', '3.5L V6 DOHC 24V',\n",
       "       '1.5L I4 16V MPFI SOHC Hybrid', 'Gas/Electric I4 1.5L/91',\n",
       "       '1.8L I4 12V 3 BBL SOHC', '3.5L V6', '1.5L I4 DOHC',\n",
       "       '1.5L I4 16V GDI DOHC', '2.0L 4 Cyl.',\n",
       "       'Intercooled Turbo Premium Unleaded I-4 1.5 L/91',\n",
       "       'Engine: 3.5L V6 24-Valve SOHC i-VTEC',\n",
       "       'Regular Unleaded I-4 1.5 L/91', '1.5L I4 16V MPFI SOHC',\n",
       "       '2.0L I4 16V DOHC', '1.5L I4 DOHC 16V', 'Gas V6 3.5L/212',\n",
       "       '2.0L I4 DOHC 16V', '1.3L I4 8V MPFI SOHC Hybrid',\n",
       "       '2.0L I4 12V SOHC', '2.0L 4 Cylinder',\n",
       "       '1.7L SOHC 16-valve I4 ULEV-certified engine',\n",
       "       '1.5L I4 8V MPFI SOHC Hybrid', '2.0L I4',\n",
       "       '1.5L SOHC MPFI 8-valve 2-stage i-VTEC I4 hybrid engine w/permane',\n",
       "       '1.5L I4 16V SOHC', '2.2 H22A',\n",
       "       '1.8L SOHC MPFI 16-valve i-VTEC I4 engine',\n",
       "       '1.5L Turbo I4 192hp 192ft. lbs.', '1.7L I4 16V MPFI SOHC',\n",
       "       'Regular Unleaded I-4 2.4 L/144',\n",
       "       '2.4L DOHC MPFI i-VTEC 16-valve I4 engine',\n",
       "       '2.3L I4 16V MPFI SOHC', 'Gas I4 2.0L/121.9',\n",
       "       'I4 2.4L Natural Aspiration', '2.4L I4 DOHC 16V i-VTEC',\n",
       "       '1.8L I4 16V MPFI SOHC CNG', '2.4L I4 DOHC i-VTEC 16V',\n",
       "       'Gas V6 3.5L/', '1.6L I4 16V MPFI SOHC',\n",
       "       '2.4L DOHC MPFI 16-valve i-VTEC I4 engine'], dtype=object)"
      ]
     },
     "execution_count": 541,
     "metadata": {},
     "output_type": "execute_result"
    }
   ],
   "source": [
    "df.Engine.unique()"
   ]
  },
  {
   "cell_type": "code",
   "execution_count": 542,
   "id": "3430e4dd-bb25-4768-9659-1a1d1f032b4e",
   "metadata": {},
   "outputs": [
    {
     "data": {
      "text/plain": [
       "Year                          0\n",
       "Make                          0\n",
       "Model                         0\n",
       "Condition                     0\n",
       "Price                         0\n",
       "Consumer_Rating               0\n",
       "Consumer_Review_#             0\n",
       "Exterior_Color                0\n",
       "Interior_Color                0\n",
       "Drivetrain                    0\n",
       "MPG                        1419\n",
       "Fuel_Type                     0\n",
       "Transmission                  0\n",
       "Engine                        0\n",
       "VIN                           0\n",
       "Stock_#                       0\n",
       "Mileage                       0\n",
       "Comfort_Rating              528\n",
       "Interior_Design_Rating      528\n",
       "Performance_Rating          528\n",
       "Value_For_Money_Rating      528\n",
       "Exterior_Styling_Rating     528\n",
       "Reliability_Rating          528\n",
       "State                        62\n",
       "Seller_Type                  62\n",
       "dtype: int64"
      ]
     },
     "execution_count": 542,
     "metadata": {},
     "output_type": "execute_result"
    }
   ],
   "source": [
    "df.isna().sum()"
   ]
  },
  {
   "cell_type": "code",
   "execution_count": 543,
   "id": "dfa71296-ab8d-4b8d-ae9b-82eeb4e8d792",
   "metadata": {},
   "outputs": [],
   "source": [
    "'''filling the missing values in Comfort and Performance_Rating cloumns\n",
    "with their means'''\n",
    "\n",
    "\n",
    "df[\"Comfort_Rating\"].fillna(value=df[\"Comfort_Rating\"].mean(), inplace=True)\n",
    "df[\"Performance_Rating\"].fillna(value=df[\"Performance_Rating\"].mean(), inplace=True)"
   ]
  },
  {
   "cell_type": "code",
   "execution_count": 544,
   "id": "1ea04523-bb00-4aae-845e-d6ba8b3ae452",
   "metadata": {},
   "outputs": [
    {
     "data": {
      "text/plain": [
       "Year                          0\n",
       "Make                          0\n",
       "Model                         0\n",
       "Condition                     0\n",
       "Price                         0\n",
       "Consumer_Rating               0\n",
       "Consumer_Review_#             0\n",
       "Exterior_Color                0\n",
       "Interior_Color                0\n",
       "Drivetrain                    0\n",
       "MPG                        1419\n",
       "Fuel_Type                     0\n",
       "Transmission                  0\n",
       "Engine                        0\n",
       "VIN                           0\n",
       "Stock_#                       0\n",
       "Mileage                       0\n",
       "Comfort_Rating                0\n",
       "Interior_Design_Rating      528\n",
       "Performance_Rating            0\n",
       "Value_For_Money_Rating      528\n",
       "Exterior_Styling_Rating     528\n",
       "Reliability_Rating          528\n",
       "State                        62\n",
       "Seller_Type                  62\n",
       "dtype: int64"
      ]
     },
     "execution_count": 544,
     "metadata": {},
     "output_type": "execute_result"
    }
   ],
   "source": [
    "df.isna().sum()"
   ]
  },
  {
   "cell_type": "markdown",
   "id": "16ace847-9be1-4ef4-8e2d-3c41a7ad17d0",
   "metadata": {},
   "source": [
    "<font size=\"5\">Price</font>"
   ]
  },
  {
   "cell_type": "code",
   "execution_count": 545,
   "id": "d098d359-aa49-4aba-8180-56a24dedb547",
   "metadata": {},
   "outputs": [],
   "source": [
    "# replace 'Not Priced' with NaN\n",
    "df['Price'] = df['Price'].replace('Not Priced', np.nan)\n",
    "\n",
    "# drop NaN values since the empty values are few \n",
    "df.dropna(subset=['Price'], inplace=True)\n",
    "\n",
    "# convert Price to a float\n",
    "df['Price'] = df['Price'].replace('[\\$,]', '', regex=True).astype(float)"
   ]
  },
  {
   "cell_type": "code",
   "execution_count": 546,
   "id": "8bef6591-503f-49b7-bc86-a3e48f539de0",
   "metadata": {},
   "outputs": [
    {
     "data": {
      "text/plain": [
       "Year                         int64\n",
       "Make                        object\n",
       "Model                       object\n",
       "Condition                   object\n",
       "Price                      float64\n",
       "Consumer_Rating            float64\n",
       "Consumer_Review_#            int64\n",
       "Exterior_Color              object\n",
       "Interior_Color              object\n",
       "Drivetrain                  object\n",
       "MPG                         object\n",
       "Fuel_Type                   object\n",
       "Transmission                object\n",
       "Engine                      object\n",
       "VIN                         object\n",
       "Stock_#                     object\n",
       "Mileage                     object\n",
       "Comfort_Rating             float64\n",
       "Interior_Design_Rating     float64\n",
       "Performance_Rating         float64\n",
       "Value_For_Money_Rating     float64\n",
       "Exterior_Styling_Rating    float64\n",
       "Reliability_Rating         float64\n",
       "State                       object\n",
       "Seller_Type                 object\n",
       "dtype: object"
      ]
     },
     "execution_count": 546,
     "metadata": {},
     "output_type": "execute_result"
    }
   ],
   "source": [
    "#Now Price is a Float\n",
    "df.dtypes"
   ]
  },
  {
   "cell_type": "markdown",
   "id": "b890b65e-89d3-4b1a-8922-d25bbda18cd3",
   "metadata": {},
   "source": [
    "<font size=\"5\"> Recoding Columns for the Analysis</font>"
   ]
  },
  {
   "cell_type": "code",
   "execution_count": 547,
   "id": "c0899a5d-7238-43dc-b3a6-b2ba782f061b",
   "metadata": {},
   "outputs": [
    {
     "data": {
      "text/plain": [
       "array([2023, 2022, 2017, 2016, 2021, 2020, 2014, 2019, 2018, 2011, 2000,\n",
       "       2009, 2004, 2015, 2007, 1997, 2012, 2013, 2010, 2008, 2005, 1981,\n",
       "       2006, 2002, 1989, 1987, 2003, 1991, 1992, 2001, 1998, 1999, 1993],\n",
       "      dtype=int64)"
      ]
     },
     "execution_count": 547,
     "metadata": {},
     "output_type": "execute_result"
    }
   ],
   "source": [
    "df.Year.unique()\n"
   ]
  },
  {
   "cell_type": "code",
   "execution_count": 548,
   "id": "f511c09e-480e-4c2c-871a-73798288717c",
   "metadata": {},
   "outputs": [],
   "source": [
    "#Recoding the enteries in this column to numeric\n",
    "\n",
    "Years = {}\n",
    "code = 1\n",
    "for Year in df.Year.unique():\n",
    "    Years[Year] = code\n",
    "    code+=1\n",
    "    \n",
    "df.replace(Years, inplace=True) "
   ]
  },
  {
   "cell_type": "code",
   "execution_count": 549,
   "id": "47f72460-4787-4e8a-b810-cf90f1dd2d3a",
   "metadata": {},
   "outputs": [
    {
     "data": {
      "text/plain": [
       "array([ 1,  2,  3,  4,  5,  6,  7,  8,  9, 10, 11, 12, 13, 14, 15, 16, 17,\n",
       "       18, 19, 20, 21, 22, 23, 24, 25, 26, 27, 28, 29, 30, 31, 32, 33],\n",
       "      dtype=int64)"
      ]
     },
     "execution_count": 549,
     "metadata": {},
     "output_type": "execute_result"
    }
   ],
   "source": [
    "df.Year.unique()"
   ]
  },
  {
   "cell_type": "code",
   "execution_count": 550,
   "id": "5a45ad94-2f3f-43c6-8e1c-bec2bbfe781d",
   "metadata": {},
   "outputs": [
    {
     "data": {
      "text/plain": [
       "array(['Honda'], dtype=object)"
      ]
     },
     "execution_count": 550,
     "metadata": {},
     "output_type": "execute_result"
    }
   ],
   "source": [
    "df.Make.unique()"
   ]
  },
  {
   "cell_type": "code",
   "execution_count": 551,
   "id": "ccb6dd4d-43f9-467e-842f-d70aae18768e",
   "metadata": {},
   "outputs": [],
   "source": [
    "#Recoding the enteries in this column to numeric\n",
    "\n",
    "Cars = {}\n",
    "code = 1\n",
    "for car in df.Make.unique():\n",
    "    Cars[car] = code\n",
    "    code+=1\n",
    "    \n",
    "df.replace(Cars, inplace=True) "
   ]
  },
  {
   "cell_type": "code",
   "execution_count": 552,
   "id": "4dc131bb-2a59-4e24-bc22-89ac83e06d24",
   "metadata": {},
   "outputs": [
    {
     "data": {
      "text/plain": [
       "array([1], dtype=int64)"
      ]
     },
     "execution_count": 552,
     "metadata": {},
     "output_type": "execute_result"
    }
   ],
   "source": [
    "df.Make.unique()"
   ]
  },
  {
   "cell_type": "code",
   "execution_count": 553,
   "id": "9f27f857-35df-4aa0-b3bb-35ccab215540",
   "metadata": {},
   "outputs": [
    {
     "data": {
      "text/plain": [
       "array(['Ridgeline RTL', 'CR-V Hybrid Sport', 'Pilot TrailSport',\n",
       "       'CR-V Hybrid Sport Touring', 'Odyssey EX-L', 'Pilot Elite',\n",
       "       'Pilot Special Edition', 'CR-V EX-L', 'Pilot Sport',\n",
       "       'Ridgeline RTL-E', 'Passport Elite', 'Accord Sport 1.5T',\n",
       "       'HR-V Sport', 'Civic Sport', 'Accord Sport 2.0T', 'Accord EX',\n",
       "       'Pilot EX-L', 'CR-V EX', 'Odyssey Sport', 'Passport EX-L',\n",
       "       'Passport TrailSport', 'CR-V Touring', 'Pilot Touring 8-Passenger',\n",
       "       'Accord Hybrid Sport', 'Ridgeline Black Edition',\n",
       "       'Accord Sport SE', 'Odyssey Elite', 'Pilot Touring 7-Passenger',\n",
       "       'HR-V LX', 'HR-V EX-L', 'Odyssey Touring', 'Civic Touring',\n",
       "       'Pilot Black Edition', 'Accord Touring', 'Civic Si Base',\n",
       "       'Accord Hybrid Sport-L', 'Pilot EX-L 7-Passenger',\n",
       "       'Accord Hybrid Touring', 'Pilot EX-L 8-Passenger',\n",
       "       'Accord Hybrid Base', 'Accord EX-L 1.5T', 'Civic EX-L',\n",
       "       'Pilot Touring', 'Civic EX', 'HR-V EX', 'Civic Sport Touring',\n",
       "       'Accord Sport', 'Accord LX', 'CR-V LX', 'Civic Type R Touring',\n",
       "       'Accord EX-L', 'Accord Hybrid EX-L', 'Accord LX 1.5T',\n",
       "       'Passport Sport', 'Insight Touring', 'Civic LX',\n",
       "       'Pilot EX-L w/ Navigation', 'HR-V Touring', 'CR-V Hybrid EX-L',\n",
       "       'S2000 Base', 'Ridgeline RTL-T', 'Clarity Plug-In Hybrid Base',\n",
       "       'Insight EX', 'Element LX', 'S2000', 'Odyssey SE',\n",
       "       'Ridgeline Sport', 'CR-V Hybrid Touring',\n",
       "       'Clarity Plug-In Hybrid Touring', 'Crosstour EX-L',\n",
       "       'Accord Sport SE 1.5T', 'Civic LX-P', 'Accord SE',\n",
       "       'CR-V Hybrid EX', 'Odyssey LX', 'Civic EX-T', 'CR-V SE', 'CR-Z EX',\n",
       "       'CR-Z Base (M6)', 'Accord Touring 2.0T', 'Odyssey EX',\n",
       "       'Passport Touring', 'CR-Z Base', 'Pilot LX', 'Prelude', 'CR-Z LX',\n",
       "       'Element EX', 'Civic Si', 'Pilot EX', 'Fit EX', 'Ridgeline Black',\n",
       "       'HR-V EX-L w/Navigation', 'Element EX-P', 'Civic LX-S',\n",
       "       'Civic Si Manual', 'Fit EX-L', 'S2000 Base (M6)',\n",
       "       'Accord Crosstour', 'Accord Crosstour EX-L',\n",
       "       'Odyssey Touring Elite', 'Insight LX', 'Fit', 'Prelude Si',\n",
       "       'Civic Si SI', 'Accord Plug-In Hybrid Base', 'Ridgeline RT',\n",
       "       'CR-V Special Edition', 'Accord VP', 'Crosstour EX',\n",
       "       'Accord EX 1.5T', 'Civic Hybrid', 'Odyssey EX-L/RES', 'Fit Sport',\n",
       "       'Ridgeline RTX', 'CR-Z EX-L', 'Accord EX-L 2.0T', 'Prelude Si 4WS',\n",
       "       'Civic Si Si', 'Civic Type R Limited Edition',\n",
       "       'Civic Si Base w/High Performance Summer Tires (M6)',\n",
       "       'Ridgeline SE', 'Accord Hybrid EX', 'Civic Hybrid Base',\n",
       "       'Odyssey EX-L w/Navigation/RES', 'Fit LX', 'Odyssey',\n",
       "       'Fit Base (A5)', 'Prelude Type SH', 'Civic Si Base (M6)',\n",
       "       'Pilot VP', 'Fit Sport w/ Navigation',\n",
       "       'Pilot EX-L w/Navigation/RES', 'Civic Si Sedan',\n",
       "       'Civic EX-L w/Navi', 'Fit Base',\n",
       "       'Civic Si Base w/Summer Tires (M6)', 'Civic GX', 'Insight',\n",
       "       'Civic Hybrid Base w/Leather (CVT)', 'Pilot SE', 'Accord LX-P',\n",
       "       'CR-Z 3dr CVT', 'Accord LX-S', 'del Sol Si', 'Ridgeline RTS',\n",
       "       'Accord EX-L V-6'], dtype=object)"
      ]
     },
     "execution_count": 553,
     "metadata": {},
     "output_type": "execute_result"
    }
   ],
   "source": [
    "df.Model.unique()"
   ]
  },
  {
   "cell_type": "code",
   "execution_count": 554,
   "id": "5daa5534-d694-4182-91f1-ba41163de3f9",
   "metadata": {},
   "outputs": [],
   "source": [
    "#Recoding the enteries in this column to numeric\n",
    "\n",
    "Models = {}\n",
    "code = 1\n",
    "for model in df.Model.unique():\n",
    "    Models[model] = code\n",
    "    code+=1\n",
    "    \n",
    "df.replace(Models, inplace=True) "
   ]
  },
  {
   "cell_type": "code",
   "execution_count": 555,
   "id": "6508e7ad-4547-4bef-a888-236fb3be32b2",
   "metadata": {},
   "outputs": [
    {
     "data": {
      "text/plain": [
       "array([  1,   2,   3,   4,   5,   6,   7,   8,   9,  10,  11,  12,  13,\n",
       "        14,  15,  16,  17,  18,  19,  20,  21,  22,  23,  24,  25,  26,\n",
       "        27,  28,  29,  30,  31,  32,  33,  34,  35,  36,  37,  38,  39,\n",
       "        40,  41,  42,  43,  44,  45,  46,  47,  48,  49,  50,  51,  52,\n",
       "        53,  54,  55,  56,  57,  58,  59,  60,  61,  62,  63,  64,  65,\n",
       "        66,  67,  68,  69,  70,  71,  72,  73,  74,  75,  76,  77,  78,\n",
       "        79,  80,  81,  82,  83,  84,  85,  86,  87,  88,  89,  90,  91,\n",
       "        92,  93,  94,  95,  96,  97,  98,  99, 100, 101, 102, 103, 104,\n",
       "       105, 106, 107, 108, 109, 110, 111, 112, 113, 114, 115, 116, 117,\n",
       "       118, 119, 120, 121, 122, 123, 124, 125, 126, 127, 128, 129, 130,\n",
       "       131, 132, 133, 134, 135, 136, 137, 138, 139, 140, 141, 142, 143,\n",
       "       144, 145, 146], dtype=int64)"
      ]
     },
     "execution_count": 555,
     "metadata": {},
     "output_type": "execute_result"
    }
   ],
   "source": [
    "df.Model.unique()"
   ]
  },
  {
   "cell_type": "code",
   "execution_count": 556,
   "id": "34f92c71-6050-479f-bb1f-72a84583b833",
   "metadata": {},
   "outputs": [
    {
     "data": {
      "text/plain": [
       "array(['New', 'Used', 'Honda Certified'], dtype=object)"
      ]
     },
     "execution_count": 556,
     "metadata": {},
     "output_type": "execute_result"
    }
   ],
   "source": [
    "df.Condition.unique()"
   ]
  },
  {
   "cell_type": "code",
   "execution_count": 557,
   "id": "7aaddc8f-1034-4586-8946-925146c4658f",
   "metadata": {},
   "outputs": [],
   "source": [
    "#Recoding the enteries in this column to numeric\n",
    "\n",
    "Conditions = {}\n",
    "code = 1\n",
    "for condition in df.Condition.unique():\n",
    "    Conditions[condition] = code\n",
    "    code+=1\n",
    "    \n",
    "df.replace(Conditions, inplace=True) "
   ]
  },
  {
   "cell_type": "code",
   "execution_count": 558,
   "id": "e97c4daf-3d68-40d0-a527-f441618b6919",
   "metadata": {},
   "outputs": [
    {
     "data": {
      "text/plain": [
       "array([1, 2, 3], dtype=int64)"
      ]
     },
     "execution_count": 558,
     "metadata": {},
     "output_type": "execute_result"
    }
   ],
   "source": [
    "df.Condition.unique()"
   ]
  },
  {
   "cell_type": "code",
   "execution_count": 559,
   "id": "185f9e3f-7fff-4e1b-a209-6c1e03e66665",
   "metadata": {},
   "outputs": [],
   "source": [
    "#Since both coloumns have some common colors,\n",
    "\n",
    "exterior_colors = {}\n",
    "ext_code = 1\n",
    "for color in df['Exterior_Color'].unique():\n",
    "    exterior_colors[color] = ext_code\n",
    "    ext_code += 1\n",
    "\n",
    "interior_colors = {}\n",
    "int_code = 1\n",
    "for color in df['Interior_Color'].unique():\n",
    "    interior_colors[color] = int_code\n",
    "    int_code += 1\n",
    "\n",
    "df['Exterior_Color'] = df['Exterior_Color'].replace(exterior_colors)\n",
    "df['Interior_Color'] = df['Interior_Color'].replace(interior_colors)"
   ]
  },
  {
   "cell_type": "code",
   "execution_count": 560,
   "id": "8d169627-c5b0-4a4c-88cd-4ca393698051",
   "metadata": {},
   "outputs": [
    {
     "data": {
      "text/plain": [
       "array([  1,   2,   3,   4,   5,   6,   7,   8,   9,  10,  11,  12,  13,\n",
       "        14,  15,  16,  17,  18,  19,  20,  21,  22,  23,  24,  25,  26,\n",
       "        27,  28,  29,  30,  31,  32,  33,  34,  35,  36,  37,  38,  39,\n",
       "        40,  41,  42,  43,  44,  45,  46,  47,  48,  49,  50,  51,  52,\n",
       "        53,  54,  55,  56,  57,  58,  59,  60,  61,  62,  63,  64,  65,\n",
       "        66,  67,  68,  69,  70,  71,  72,  73,  74,  75,  76,  77,  78,\n",
       "        79,  80,  81,  82,  83,  84,  85,  86,  87,  88,  89,  90,  91,\n",
       "        92,  93,  94,  95,  96,  97,  98,  99, 100, 101, 102, 103, 104,\n",
       "       105, 106, 107, 108, 109, 110, 111, 112, 113, 114, 115, 116, 117,\n",
       "       118, 119, 120, 121, 122, 123, 124, 125, 126, 127, 128, 129, 130,\n",
       "       131, 132, 133, 134, 135, 136, 137, 138, 139, 140, 141, 142, 143,\n",
       "       144, 145, 146, 147, 148, 149, 150, 151, 152, 153, 154, 155, 156,\n",
       "       157, 158, 159, 160, 161, 162, 163, 164, 165, 166, 167], dtype=int64)"
      ]
     },
     "execution_count": 560,
     "metadata": {},
     "output_type": "execute_result"
    }
   ],
   "source": [
    "df.Exterior_Color.unique()"
   ]
  },
  {
   "cell_type": "code",
   "execution_count": 561,
   "id": "17266c95-255e-4f17-ae14-47a8f11cebd8",
   "metadata": {},
   "outputs": [
    {
     "data": {
      "text/plain": [
       "array([ 1,  2,  3,  4,  5,  6,  7,  8,  9, 10, 11, 12, 13, 14, 15, 16, 17,\n",
       "       18, 19, 20, 21, 22, 23, 24, 25, 26, 27, 28, 29, 30, 31, 32, 33, 34,\n",
       "       35, 36, 37, 38, 39, 40, 41, 42, 43, 44, 45, 46, 47, 48, 49, 50, 51,\n",
       "       52, 53, 54, 55, 56, 57, 58, 59, 60, 61, 62], dtype=int64)"
      ]
     },
     "execution_count": 561,
     "metadata": {},
     "output_type": "execute_result"
    }
   ],
   "source": [
    "df.Interior_Color.unique()"
   ]
  },
  {
   "cell_type": "code",
   "execution_count": 562,
   "id": "03129caa-9d8e-42e2-9b0b-61e488dd4402",
   "metadata": {},
   "outputs": [
    {
     "data": {
      "text/plain": [
       "array(['Gasoline', 'Hybrid', 'Compressed Natural Gas'], dtype=object)"
      ]
     },
     "execution_count": 562,
     "metadata": {},
     "output_type": "execute_result"
    }
   ],
   "source": [
    "df.Fuel_Type.unique()"
   ]
  },
  {
   "cell_type": "code",
   "execution_count": 563,
   "id": "3868cb44-08fa-4cf3-879d-e6ee43151c4b",
   "metadata": {},
   "outputs": [],
   "source": [
    "#Recoding the enteries in this column to numeric\n",
    "\n",
    "Fuel_Types = {}\n",
    "code = 1\n",
    "for Fuel_Type in df.Fuel_Type.unique():\n",
    "    Fuel_Types[Fuel_Type] = code\n",
    "    code+=1\n",
    "    \n",
    "df.replace(Fuel_Types, inplace=True)"
   ]
  },
  {
   "cell_type": "code",
   "execution_count": 564,
   "id": "7db4ae1f-7694-4de4-a7c5-99b1622152f4",
   "metadata": {},
   "outputs": [
    {
     "data": {
      "text/plain": [
       "array([1, 2, 3], dtype=int64)"
      ]
     },
     "execution_count": 564,
     "metadata": {},
     "output_type": "execute_result"
    }
   ],
   "source": [
    "df.Fuel_Type.unique()"
   ]
  },
  {
   "cell_type": "code",
   "execution_count": 565,
   "id": "ae91f81e-7bba-4169-bd6e-6bd183ee1b26",
   "metadata": {},
   "outputs": [
    {
     "data": {
      "text/plain": [
       "array(['Automatic', 'Automatic CVT', '9-Speed Automatic',\n",
       "       '10-Speed Automatic', '10-SPEED A/T', 'continuously variable',\n",
       "       'continuously variable (m cvt)', 'continuously variable automatic',\n",
       "       'electronic continuously variable', '1-Speed CVT with Overdrive',\n",
       "       '9-SPEED A/T', 'Variable', 'OTHER', '6-Speed Manual',\n",
       "       '9-Speed Automatic with Overdrive', 'eCVT', 'Manual',\n",
       "       'continuously variable w/sport mode',\n",
       "       'continuously variable (ll cvt)', '10 speed automatic',\n",
       "       '1-Speed Automatic', 'CVT', 'Electronically Controlled Automatic',\n",
       "       '6-SPEED M/T', '5-Speed Automatic', '6-Speed Automatic',\n",
       "       '10-Speed Automatic with Overdrive', '4-Speed Automatic',\n",
       "       '9 speed automatic', '5-Speed Manual', '6-SPEED A/T',\n",
       "       '5-SPEED A/T', 'TRANSMISSION W DRIVER SELECTABLE MODE',\n",
       "       'Close-Ratio 6-Speed Manual', '5-SPEED M/T', '4-SPEED A/T',\n",
       "       'continuously variable (cvt)', 'AUTOMATIC',\n",
       "       'e continuously variable (e cvt)',\n",
       "       'Continuously Variable Transmission', 'Automatic 5-Speed',\n",
       "       'Automatic, 6-Spd', 'electric continuously variable',\n",
       "       'CVT TRANSMISSION', 'Automatic, 5-Spd', '9-Speed',\n",
       "       '6 speed automatic', '1-Speed CVT w/OD'], dtype=object)"
      ]
     },
     "execution_count": 565,
     "metadata": {},
     "output_type": "execute_result"
    }
   ],
   "source": [
    "df.Transmission.unique()"
   ]
  },
  {
   "cell_type": "code",
   "execution_count": 566,
   "id": "490a3e3b-445e-41ad-b7dc-e4124d0220dd",
   "metadata": {},
   "outputs": [],
   "source": [
    "#Recoding the enteries in this column to numeric\n",
    "\n",
    "Transmissions = {}\n",
    "code = 1\n",
    "for transmission in df.Transmission.unique():\n",
    "    Transmissions[transmission] = code\n",
    "    code+=1\n",
    "    \n",
    "df.replace(Transmissions, inplace=True)"
   ]
  },
  {
   "cell_type": "code",
   "execution_count": 567,
   "id": "db3897c3-f2d5-4b38-8019-78afbc58f761",
   "metadata": {},
   "outputs": [
    {
     "data": {
      "text/plain": [
       "array([ 1,  2,  3,  4,  5,  6,  7,  8,  9, 10, 11, 12, 13, 14, 15, 16, 17,\n",
       "       18, 19, 20, 21, 22, 23, 24, 25, 26, 27, 28, 29, 30, 31, 32, 33, 34,\n",
       "       35, 36, 37, 38, 39, 40, 41, 42, 43, 44, 45, 46, 47, 48],\n",
       "      dtype=int64)"
      ]
     },
     "execution_count": 567,
     "metadata": {},
     "output_type": "execute_result"
    }
   ],
   "source": [
    "df.Transmission.unique()"
   ]
  },
  {
   "cell_type": "code",
   "execution_count": 568,
   "id": "b0e0085f-b25e-4cda-853f-c9e265f6a8b2",
   "metadata": {},
   "outputs": [
    {
     "data": {
      "text/plain": [
       "array(['3.5L V6 24V GDI SOHC', '2.0L I4 16V GDI DOHC Hybrid',\n",
       "       '3.5L V6 24V GDI DOHC', '1.5L I4 16V GDI DOHC Turbo',\n",
       "       'V6 Cylinder Engine', '4 Cylinder Engine', '1.5L I4 16V DOHC',\n",
       "       '2.0L I4 16V GDI DOHC Turbo', '2.0L I4 16V MPFI DOHC Hybrid',\n",
       "       'Intercooled Turbo Regular Unleaded I-4 1.5 L/91',\n",
       "       '2.0L I4 16V GDI DOHC', '1.8L I4 16V MPFI SOHC',\n",
       "       'Gas/Electric I-4 2.0 L/122',\n",
       "       'Intercooled Turbo Regular Unleaded I-4 2.0 L/122',\n",
       "       'Regular Unleaded V-6 3.5 L/212', '1.5L 4 Cylinder',\n",
       "       '2.4L I4 16V GDI DOHC', 'Regular Unleaded I-4 2.0 L/122',\n",
       "       'Premium Unleaded V-6 3.5 L/212', '2.4L I4 16V MPFI DOHC',\n",
       "       '1.5L I4 16V MPFI DOHC Hybrid', '2.0L I4 16V MPFI DOHC',\n",
       "       '2.2L I4 16V MPFI DOHC', '3.5L V6 24V MPFI SOHC', '1.5L 4 Cyl.',\n",
       "       'Gas/Electric I-4 1.5 L/91', '3.0L V6 24V MPFI SOHC',\n",
       "       '2.2L I4 16V MPFI SOHC', '1.5L I4', '3.5L', '3.5L V6 DOHC 24V',\n",
       "       '1.5L I4 16V MPFI SOHC Hybrid', 'Gas/Electric I4 1.5L/91',\n",
       "       '1.8L I4 12V 3 BBL SOHC', '3.5L V6', '1.5L I4 DOHC',\n",
       "       '1.5L I4 16V GDI DOHC', '2.0L 4 Cyl.',\n",
       "       'Intercooled Turbo Premium Unleaded I-4 1.5 L/91',\n",
       "       'Engine: 3.5L V6 24-Valve SOHC i-VTEC',\n",
       "       'Regular Unleaded I-4 1.5 L/91', '1.5L I4 16V MPFI SOHC',\n",
       "       '2.0L I4 16V DOHC', 'Gas V6 3.5L/212', '2.0L I4 DOHC 16V',\n",
       "       '1.3L I4 8V MPFI SOHC Hybrid', '2.0L I4 12V SOHC',\n",
       "       '2.0L 4 Cylinder', '1.7L SOHC 16-valve I4 ULEV-certified engine',\n",
       "       '1.5L I4 8V MPFI SOHC Hybrid', '2.0L I4',\n",
       "       '1.5L SOHC MPFI 8-valve 2-stage i-VTEC I4 hybrid engine w/permane',\n",
       "       '1.5L I4 16V SOHC', '2.2 H22A',\n",
       "       '1.8L SOHC MPFI 16-valve i-VTEC I4 engine',\n",
       "       '1.5L Turbo I4 192hp 192ft. lbs.', '1.7L I4 16V MPFI SOHC',\n",
       "       'Regular Unleaded I-4 2.4 L/144',\n",
       "       '2.4L DOHC MPFI i-VTEC 16-valve I4 engine',\n",
       "       '2.3L I4 16V MPFI SOHC', 'Gas I4 2.0L/121.9',\n",
       "       'I4 2.4L Natural Aspiration', '2.4L I4 DOHC 16V i-VTEC',\n",
       "       '1.8L I4 16V MPFI SOHC CNG', '2.4L I4 DOHC i-VTEC 16V',\n",
       "       'Gas V6 3.5L/', '1.6L I4 16V MPFI SOHC',\n",
       "       '2.4L DOHC MPFI 16-valve i-VTEC I4 engine'], dtype=object)"
      ]
     },
     "execution_count": 568,
     "metadata": {},
     "output_type": "execute_result"
    }
   ],
   "source": [
    "df.Engine.unique()"
   ]
  },
  {
   "cell_type": "code",
   "execution_count": 569,
   "id": "a3eaa2ee-3b40-49cd-a9e0-a120975ed78f",
   "metadata": {},
   "outputs": [],
   "source": [
    "#Recoding the enteries in this column to numeric\n",
    "\n",
    "Engines = {}\n",
    "code = 1\n",
    "for Engine in df.Engine.unique():\n",
    "    Engines[Engine] = code\n",
    "    code+=1\n",
    "    \n",
    "df.replace(Engines, inplace=True)"
   ]
  },
  {
   "cell_type": "code",
   "execution_count": 570,
   "id": "9b891451-1482-45fa-ac3b-d523fd764427",
   "metadata": {},
   "outputs": [
    {
     "data": {
      "text/plain": [
       "array([ 1,  2,  3,  4,  5,  6,  7,  8,  9, 10, 11, 12, 13, 14, 15, 16, 17,\n",
       "       18, 19, 20, 21, 22, 23, 24, 25, 26, 27, 28, 29, 30, 31, 32, 33, 34,\n",
       "       35, 36, 37, 38, 39, 40, 41, 42, 43, 44, 45, 46, 47, 48, 49, 50, 51,\n",
       "       52, 53, 54, 55, 56, 57, 58, 59, 60, 61, 62, 63, 64, 65, 66, 67, 68],\n",
       "      dtype=int64)"
      ]
     },
     "execution_count": 570,
     "metadata": {},
     "output_type": "execute_result"
    }
   ],
   "source": [
    "df.Engine.unique()"
   ]
  },
  {
   "cell_type": "code",
   "execution_count": 571,
   "id": "1bace5cb-3125-4b50-9cf3-03313b3f0b66",
   "metadata": {},
   "outputs": [
    {
     "data": {
      "text/html": [
       "<div>\n",
       "<style scoped>\n",
       "    .dataframe tbody tr th:only-of-type {\n",
       "        vertical-align: middle;\n",
       "    }\n",
       "\n",
       "    .dataframe tbody tr th {\n",
       "        vertical-align: top;\n",
       "    }\n",
       "\n",
       "    .dataframe thead th {\n",
       "        text-align: right;\n",
       "    }\n",
       "</style>\n",
       "<table border=\"1\" class=\"dataframe\">\n",
       "  <thead>\n",
       "    <tr style=\"text-align: right;\">\n",
       "      <th></th>\n",
       "      <th>Year</th>\n",
       "      <th>Make</th>\n",
       "      <th>Model</th>\n",
       "      <th>Condition</th>\n",
       "      <th>Price</th>\n",
       "      <th>Consumer_Rating</th>\n",
       "      <th>Consumer_Review_#</th>\n",
       "      <th>Exterior_Color</th>\n",
       "      <th>Interior_Color</th>\n",
       "      <th>Drivetrain</th>\n",
       "      <th>...</th>\n",
       "      <th>Stock_#</th>\n",
       "      <th>Mileage</th>\n",
       "      <th>Comfort_Rating</th>\n",
       "      <th>Interior_Design_Rating</th>\n",
       "      <th>Performance_Rating</th>\n",
       "      <th>Value_For_Money_Rating</th>\n",
       "      <th>Exterior_Styling_Rating</th>\n",
       "      <th>Reliability_Rating</th>\n",
       "      <th>State</th>\n",
       "      <th>Seller_Type</th>\n",
       "    </tr>\n",
       "  </thead>\n",
       "  <tbody>\n",
       "    <tr>\n",
       "      <th>0</th>\n",
       "      <td>1</td>\n",
       "      <td>1</td>\n",
       "      <td>1</td>\n",
       "      <td>1</td>\n",
       "      <td>46370.0</td>\n",
       "      <td>4.8</td>\n",
       "      <td>9</td>\n",
       "      <td>1</td>\n",
       "      <td>1</td>\n",
       "      <td>All-wheel Drive</td>\n",
       "      <td>...</td>\n",
       "      <td>830164</td>\n",
       "      <td>10</td>\n",
       "      <td>5.0</td>\n",
       "      <td>4.8</td>\n",
       "      <td>4.8</td>\n",
       "      <td>4.2</td>\n",
       "      <td>5.0</td>\n",
       "      <td>5.0</td>\n",
       "      <td>CA</td>\n",
       "      <td>Dealer</td>\n",
       "    </tr>\n",
       "    <tr>\n",
       "      <th>1</th>\n",
       "      <td>1</td>\n",
       "      <td>1</td>\n",
       "      <td>2</td>\n",
       "      <td>1</td>\n",
       "      <td>34150.0</td>\n",
       "      <td>1.7</td>\n",
       "      <td>24</td>\n",
       "      <td>1</td>\n",
       "      <td>2</td>\n",
       "      <td>FWD</td>\n",
       "      <td>...</td>\n",
       "      <td>6402953</td>\n",
       "      <td></td>\n",
       "      <td>5.0</td>\n",
       "      <td>3.0</td>\n",
       "      <td>4.0</td>\n",
       "      <td>4.0</td>\n",
       "      <td>5.0</td>\n",
       "      <td>5.0</td>\n",
       "      <td>CA</td>\n",
       "      <td>Dealer</td>\n",
       "    </tr>\n",
       "    <tr>\n",
       "      <th>2</th>\n",
       "      <td>1</td>\n",
       "      <td>1</td>\n",
       "      <td>2</td>\n",
       "      <td>1</td>\n",
       "      <td>34245.0</td>\n",
       "      <td>4.7</td>\n",
       "      <td>2869</td>\n",
       "      <td>2</td>\n",
       "      <td>2</td>\n",
       "      <td>Front-wheel Drive</td>\n",
       "      <td>...</td>\n",
       "      <td>PH704805</td>\n",
       "      <td>1</td>\n",
       "      <td>5.0</td>\n",
       "      <td>3.0</td>\n",
       "      <td>4.0</td>\n",
       "      <td>4.0</td>\n",
       "      <td>5.0</td>\n",
       "      <td>5.0</td>\n",
       "      <td>CA</td>\n",
       "      <td>Dealer</td>\n",
       "    </tr>\n",
       "    <tr>\n",
       "      <th>3</th>\n",
       "      <td>2</td>\n",
       "      <td>1</td>\n",
       "      <td>3</td>\n",
       "      <td>1</td>\n",
       "      <td>46500.0</td>\n",
       "      <td>5.0</td>\n",
       "      <td>12</td>\n",
       "      <td>3</td>\n",
       "      <td>2</td>\n",
       "      <td>All-wheel Drive</td>\n",
       "      <td>...</td>\n",
       "      <td>5700429B</td>\n",
       "      <td>5</td>\n",
       "      <td>5.0</td>\n",
       "      <td>5.0</td>\n",
       "      <td>5.0</td>\n",
       "      <td>5.0</td>\n",
       "      <td>5.0</td>\n",
       "      <td>5.0</td>\n",
       "      <td>CA</td>\n",
       "      <td>Dealer</td>\n",
       "    </tr>\n",
       "    <tr>\n",
       "      <th>4</th>\n",
       "      <td>1</td>\n",
       "      <td>1</td>\n",
       "      <td>4</td>\n",
       "      <td>1</td>\n",
       "      <td>40395.0</td>\n",
       "      <td>4.4</td>\n",
       "      <td>12</td>\n",
       "      <td>4</td>\n",
       "      <td>2</td>\n",
       "      <td>All-wheel Drive</td>\n",
       "      <td>...</td>\n",
       "      <td>5705954</td>\n",
       "      <td>5</td>\n",
       "      <td>5.0</td>\n",
       "      <td>3.0</td>\n",
       "      <td>4.0</td>\n",
       "      <td>4.0</td>\n",
       "      <td>5.0</td>\n",
       "      <td>5.0</td>\n",
       "      <td>CA</td>\n",
       "      <td>Dealer</td>\n",
       "    </tr>\n",
       "  </tbody>\n",
       "</table>\n",
       "<p>5 rows × 25 columns</p>\n",
       "</div>"
      ],
      "text/plain": [
       "   Year  Make  Model  Condition    Price  Consumer_Rating  Consumer_Review_#  \\\n",
       "0     1     1      1          1  46370.0              4.8                  9   \n",
       "1     1     1      2          1  34150.0              1.7                 24   \n",
       "2     1     1      2          1  34245.0              4.7               2869   \n",
       "3     2     1      3          1  46500.0              5.0                 12   \n",
       "4     1     1      4          1  40395.0              4.4                 12   \n",
       "\n",
       "   Exterior_Color  Interior_Color         Drivetrain  ...   Stock_#  Mileage  \\\n",
       "0               1               1    All-wheel Drive  ...    830164       10   \n",
       "1               1               2                FWD  ...   6402953           \n",
       "2               2               2  Front-wheel Drive  ...  PH704805        1   \n",
       "3               3               2    All-wheel Drive  ...  5700429B        5   \n",
       "4               4               2    All-wheel Drive  ...   5705954        5   \n",
       "\n",
       "   Comfort_Rating  Interior_Design_Rating Performance_Rating  \\\n",
       "0             5.0                     4.8                4.8   \n",
       "1             5.0                     3.0                4.0   \n",
       "2             5.0                     3.0                4.0   \n",
       "3             5.0                     5.0                5.0   \n",
       "4             5.0                     3.0                4.0   \n",
       "\n",
       "  Value_For_Money_Rating Exterior_Styling_Rating  Reliability_Rating  State  \\\n",
       "0                    4.2                     5.0                 5.0     CA   \n",
       "1                    4.0                     5.0                 5.0     CA   \n",
       "2                    4.0                     5.0                 5.0     CA   \n",
       "3                    5.0                     5.0                 5.0     CA   \n",
       "4                    4.0                     5.0                 5.0     CA   \n",
       "\n",
       "   Seller_Type  \n",
       "0       Dealer  \n",
       "1       Dealer  \n",
       "2       Dealer  \n",
       "3       Dealer  \n",
       "4       Dealer  \n",
       "\n",
       "[5 rows x 25 columns]"
      ]
     },
     "execution_count": 571,
     "metadata": {},
     "output_type": "execute_result"
    }
   ],
   "source": [
    "df.head()"
   ]
  },
  {
   "cell_type": "markdown",
   "id": "30201839-7a12-4bc0-959f-7d0c5466f872",
   "metadata": {},
   "source": [
    "<font size=\"5\"> Selecting the x and y variables</font>"
   ]
  },
  {
   "cell_type": "code",
   "execution_count": 572,
   "id": "f68e3dee-dbf7-4fdd-9dbd-4877cbc45aa3",
   "metadata": {},
   "outputs": [],
   "source": [
    "#Selecting the x and y variables\n",
    "\n",
    "columns = ['Year', 'Make', 'Model', 'Condition',\"Exterior_Color\", \"Interior_Color\", \"Fuel_Type\", \"Transmission\", \"Engine\",'Comfort_Rating',\n",
    "       'Performance_Rating']\n",
    "\n",
    "x = df[ columns ]\n",
    "\n",
    "y = df.Price"
   ]
  },
  {
   "cell_type": "markdown",
   "id": "5e194a28-8c5a-403c-943c-4bbf267cf949",
   "metadata": {},
   "source": [
    "<font size=\"5\"> Splitting the data</font>"
   ]
  },
  {
   "cell_type": "code",
   "execution_count": 573,
   "id": "bcd8eaaa-ad97-480a-9ab8-576a3cc90335",
   "metadata": {},
   "outputs": [],
   "source": [
    "#splitting the data\n",
    "x_train, x_test, y_train, y_test = train_test_split(x,y,test_size= 0.2)"
   ]
  },
  {
   "cell_type": "markdown",
   "id": "f6fe7b52-7013-447e-b800-6cd7be9604c6",
   "metadata": {},
   "source": [
    "<font size=\"5\"> LinearRegression model</font>"
   ]
  },
  {
   "cell_type": "markdown",
   "id": "b994964f-7bb2-499b-a311-b6ebb7acd76a",
   "metadata": {},
   "source": [
    "np.random.seed(42)\n"
   ]
  },
  {
   "cell_type": "code",
   "execution_count": 574,
   "id": "9016ae63-8391-4d65-be0c-134a188cfcaa",
   "metadata": {},
   "outputs": [],
   "source": [
    "#model_1 = LinearRegression\n",
    "\n",
    "model_1 = LinearRegression()"
   ]
  },
  {
   "cell_type": "code",
   "execution_count": 575,
   "id": "8ef0c765-487f-4d4c-9efe-28f67680acdd",
   "metadata": {},
   "outputs": [
    {
     "data": {
      "text/plain": [
       "LinearRegression()"
      ]
     },
     "execution_count": 575,
     "metadata": {},
     "output_type": "execute_result"
    }
   ],
   "source": [
    "\n",
    "# fitting the model to the training data\n",
    "\n",
    "model_1.fit (x_train,y_train)"
   ]
  },
  {
   "cell_type": "code",
   "execution_count": 576,
   "id": "cbd6c349-5671-4d5f-a64a-4dce715a7fca",
   "metadata": {},
   "outputs": [],
   "source": [
    "# predictions on the testing data\n",
    "\n",
    "predicted = model_1.predict( x_test)"
   ]
  },
  {
   "cell_type": "code",
   "execution_count": 577,
   "id": "458135f8-bc36-4657-8301-5509bfa017ce",
   "metadata": {},
   "outputs": [
    {
     "data": {
      "text/plain": [
       "0    46370.0\n",
       "1    34150.0\n",
       "2    34245.0\n",
       "3    46500.0\n",
       "4    40395.0\n",
       "Name: Price, dtype: float64"
      ]
     },
     "execution_count": 577,
     "metadata": {},
     "output_type": "execute_result"
    }
   ],
   "source": [
    "y.head()"
   ]
  },
  {
   "cell_type": "code",
   "execution_count": 578,
   "id": "dce1ade7-c642-4bfd-985c-4deac00f2a39",
   "metadata": {},
   "outputs": [],
   "source": [
    "error = mean_squared_error(y_test,predicted )"
   ]
  },
  {
   "cell_type": "code",
   "execution_count": 579,
   "id": "07dda925-29fd-4cdc-9333-561e62b3ec7a",
   "metadata": {},
   "outputs": [
    {
     "name": "stdout",
     "output_type": "stream",
     "text": [
      "41369958.47608927\n"
     ]
    }
   ],
   "source": [
    "print (error)"
   ]
  },
  {
   "cell_type": "code",
   "execution_count": 580,
   "id": "4eedf428-a177-4ad0-a607-b89d714898dc",
   "metadata": {},
   "outputs": [
    {
     "data": {
      "text/plain": [
       "6431.9482644133"
      ]
     },
     "execution_count": 580,
     "metadata": {},
     "output_type": "execute_result"
    }
   ],
   "source": [
    "np.sqrt(error)"
   ]
  },
  {
   "cell_type": "code",
   "execution_count": null,
   "id": "9b484dd2-6cc6-43d6-978a-135c4a28383b",
   "metadata": {},
   "outputs": [],
   "source": []
  },
  {
   "cell_type": "code",
   "execution_count": 581,
   "id": "3b3652d9-774f-4915-b228-18f0b9bc462e",
   "metadata": {},
   "outputs": [],
   "source": [
    "#Accuracy of the Linear Regression using the R-square score\n",
    "from sklearn.metrics import r2_score\n",
    "\n",
    "# Calculate the R-squared score\n",
    "r2 = r2_score(y_test,predicted)"
   ]
  },
  {
   "cell_type": "code",
   "execution_count": 582,
   "id": "b6a79ea5-2f02-407e-915e-c4801dbff4b8",
   "metadata": {},
   "outputs": [
    {
     "name": "stdout",
     "output_type": "stream",
     "text": [
      "R-squared: 0.6008422510643469\n"
     ]
    }
   ],
   "source": [
    "# Print the R-squared score\n",
    "print('R-squared:', r2)"
   ]
  },
  {
   "cell_type": "markdown",
   "id": "75ec110f-0f51-450d-8b77-010294fe36a7",
   "metadata": {},
   "source": [
    "\n",
    "<font size=\"5\"> LogisticRegression model </font>"
   ]
  },
  {
   "cell_type": "code",
   "execution_count": 583,
   "id": "d93d1384-ad9e-4d37-9ccd-9b49bc092e7c",
   "metadata": {},
   "outputs": [],
   "source": [
    "# Create a logistic regression model\n",
    "#model_2 = LogisticRegression\n",
    "\n",
    "model_2 = LogisticRegression(solver='sag', max_iter=100000)\n"
   ]
  },
  {
   "cell_type": "code",
   "execution_count": 584,
   "id": "630b5d27-6eac-4ba4-a647-4e0118b62a04",
   "metadata": {},
   "outputs": [
    {
     "data": {
      "text/plain": [
       "LogisticRegression(max_iter=100000, solver='sag')"
      ]
     },
     "execution_count": 584,
     "metadata": {},
     "output_type": "execute_result"
    }
   ],
   "source": [
    "# Training the model\n",
    "\n",
    "model_2.fit(x_train, y_train)"
   ]
  },
  {
   "cell_type": "code",
   "execution_count": 599,
   "id": "6389260c-ce4c-4700-83af-15dee904289c",
   "metadata": {},
   "outputs": [],
   "source": [
    "# predictions on the testing data\n",
    "\n",
    "predicted_1 = model_2.predict( x_test)"
   ]
  },
  {
   "cell_type": "code",
   "execution_count": 600,
   "id": "65d9be8d-d2df-4fc4-935d-8ced0b487870",
   "metadata": {},
   "outputs": [],
   "source": [
    "error_1 = mean_squared_error(y_test,predicted )"
   ]
  },
  {
   "cell_type": "code",
   "execution_count": 601,
   "id": "2af7023c-2e87-4686-9d0b-d762f6c611ff",
   "metadata": {},
   "outputs": [
    {
     "name": "stdout",
     "output_type": "stream",
     "text": [
      "41369958.47608927\n"
     ]
    }
   ],
   "source": [
    "print(error_1)"
   ]
  },
  {
   "cell_type": "code",
   "execution_count": 602,
   "id": "0d5055a2-f31f-4928-9abb-5e02736a5979",
   "metadata": {},
   "outputs": [
    {
     "data": {
      "text/plain": [
       "6431.9482644133"
      ]
     },
     "execution_count": 602,
     "metadata": {},
     "output_type": "execute_result"
    }
   ],
   "source": [
    "np.sqrt(error_1)"
   ]
  },
  {
   "cell_type": "code",
   "execution_count": 603,
   "id": "640ac41d-60ed-4532-8b32-c66becdd7fe4",
   "metadata": {},
   "outputs": [],
   "source": [
    "r3 = r2_score(y_test,predicted_1)"
   ]
  },
  {
   "cell_type": "code",
   "execution_count": 604,
   "id": "7205a671-aff0-46a4-a8fe-b4e5fcefc1ef",
   "metadata": {},
   "outputs": [
    {
     "name": "stdout",
     "output_type": "stream",
     "text": [
      "R-squared: 0.5766577844526384\n"
     ]
    }
   ],
   "source": [
    "# Print the R-squared score\n",
    "print('R-squared:', r3)"
   ]
  },
  {
   "cell_type": "code",
   "execution_count": null,
   "id": "69251574-20c2-4c85-965d-35e91005063e",
   "metadata": {},
   "outputs": [],
   "source": []
  }
 ],
 "metadata": {
  "kernelspec": {
   "display_name": "Python 3 (ipykernel)",
   "language": "python",
   "name": "python3"
  },
  "language_info": {
   "codemirror_mode": {
    "name": "ipython",
    "version": 3
   },
   "file_extension": ".py",
   "mimetype": "text/x-python",
   "name": "python",
   "nbconvert_exporter": "python",
   "pygments_lexer": "ipython3",
   "version": "3.9.13"
  }
 },
 "nbformat": 4,
 "nbformat_minor": 5
}
